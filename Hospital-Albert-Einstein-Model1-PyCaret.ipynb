{
 "cells": [
  {
   "cell_type": "code",
   "execution_count": 1,
   "id": "b6151b7b",
   "metadata": {
    "ExecuteTime": {
     "end_time": "2021-06-09T04:06:56.404935Z",
     "start_time": "2021-06-09T04:06:51.736107Z"
    }
   },
   "outputs": [],
   "source": [
    "#%% Libraries\n",
    "import pandas as pd\n",
    "import warnings\n",
    "import pandas as pds\n",
    "import numpy as np\n",
    "import seaborn as sns\n",
    "import matplotlib.pyplot as plt\n",
    "import numpy as np\n",
    "from matplotlib import pyplot as plt\n",
    "from sklearn.utils import resample\n",
    "from pandas_profiling import ProfileReport\n",
    "from sklearn.preprocessing import LabelEncoder\n",
    "from sklearn.model_selection import cross_val_score, KFold\n",
    "from pandas.plotting import scatter_matrix\n",
    "from sklearn.model_selection import train_test_split\n",
    "from sklearn.tree import DecisionTreeRegressor\n",
    "from sklearn.ensemble import ExtraTreesRegressor\n",
    "from sklearn import metrics\n",
    "from sklearn.metrics import mean_squared_error\n",
    "from sklearn.metrics import roc_auc_score, plot_roc_curve\n",
    "from sklearn.metrics import precision_score, recall_score, f1_score\n",
    "from sklearn.feature_selection import RFECV as RFECV_SKYLEARN\n",
    "pd.options.display.max_columns = 100\n",
    "#pd.set_option('display.max_columns', None)\n",
    "import warnings\n",
    "warnings.filterwarnings(\"ignore\")\n",
    "from IPython.core.interactiveshell import InteractiveShell\n",
    "InteractiveShell.ast_node_interactivity = \"all\"\n",
    "from IPython.display import Audio, display\n",
    "def allDone():\n",
    "    display(Audio(url='https://sound.peal.io/ps/audios/000/000/537/original/woo_vu_luvub_dub_dub.wav', autoplay=True))"
   ]
  },
  {
   "cell_type": "code",
   "execution_count": 2,
   "id": "9609be54",
   "metadata": {
    "ExecuteTime": {
     "end_time": "2021-06-09T04:07:00.250439Z",
     "start_time": "2021-06-09T04:07:00.229482Z"
    }
   },
   "outputs": [
    {
     "data": {
      "text/plain": [
       "['med', 'med', 'med', 'med', 'med', ..., 'high', 'high', 'high', 'high', 'high']\n",
       "Length: 10000\n",
       "Categories (3, object): ['low' < 'med' < 'high']"
      ]
     },
     "execution_count": 2,
     "metadata": {},
     "output_type": "execute_result"
    }
   ],
   "source": [
    "#Open File\n",
    "albert = pd.read_csv('C:/Users/user/Documents/1. GitHub/Albert_Einstein/data.csv')\n",
    "# Order categories\n",
    "categories = pd.Categorical(albert['target'], categories=['low', 'med', 'high'], ordered=True)\n",
    "categories\n",
    "# Label your target with numerical values\n",
    "labels, unique = pd.factorize(categories, sort=True)\n",
    "albert['target'] = labels"
   ]
  },
  {
   "cell_type": "code",
   "execution_count": 3,
   "id": "27f5c3ba",
   "metadata": {
    "ExecuteTime": {
     "end_time": "2021-06-09T04:07:22.941038Z",
     "start_time": "2021-06-09T04:07:05.141679Z"
    }
   },
   "outputs": [
    {
     "data": {
      "text/html": [
       "<style  type=\"text/css\" >\n",
       "#T_0f59f_row19_col1,#T_0f59f_row29_col1,#T_0f59f_row31_col1,#T_0f59f_row36_col1,#T_0f59f_row37_col1,#T_0f59f_row42_col1,#T_0f59f_row51_col1,#T_0f59f_row57_col1{\n",
       "            background-color:  lightgreen;\n",
       "            background-color:  lightgreen;\n",
       "        }</style><table id=\"T_0f59f_\" ><thead>    <tr>        <th class=\"blank level0\" ></th>        <th class=\"col_heading level0 col0\" >Description</th>        <th class=\"col_heading level0 col1\" >Value</th>    </tr></thead><tbody>\n",
       "                <tr>\n",
       "                        <th id=\"T_0f59f_level0_row0\" class=\"row_heading level0 row0\" >0</th>\n",
       "                        <td id=\"T_0f59f_row0_col0\" class=\"data row0 col0\" >session_id</td>\n",
       "                        <td id=\"T_0f59f_row0_col1\" class=\"data row0 col1\" >5481</td>\n",
       "            </tr>\n",
       "            <tr>\n",
       "                        <th id=\"T_0f59f_level0_row1\" class=\"row_heading level0 row1\" >1</th>\n",
       "                        <td id=\"T_0f59f_row1_col0\" class=\"data row1 col0\" >Target</td>\n",
       "                        <td id=\"T_0f59f_row1_col1\" class=\"data row1 col1\" >target</td>\n",
       "            </tr>\n",
       "            <tr>\n",
       "                        <th id=\"T_0f59f_level0_row2\" class=\"row_heading level0 row2\" >2</th>\n",
       "                        <td id=\"T_0f59f_row2_col0\" class=\"data row2 col0\" >Target Type</td>\n",
       "                        <td id=\"T_0f59f_row2_col1\" class=\"data row2 col1\" >Multiclass</td>\n",
       "            </tr>\n",
       "            <tr>\n",
       "                        <th id=\"T_0f59f_level0_row3\" class=\"row_heading level0 row3\" >3</th>\n",
       "                        <td id=\"T_0f59f_row3_col0\" class=\"data row3 col0\" >Label Encoded</td>\n",
       "                        <td id=\"T_0f59f_row3_col1\" class=\"data row3 col1\" >0: 0, 1: 1, 2: 2</td>\n",
       "            </tr>\n",
       "            <tr>\n",
       "                        <th id=\"T_0f59f_level0_row4\" class=\"row_heading level0 row4\" >4</th>\n",
       "                        <td id=\"T_0f59f_row4_col0\" class=\"data row4 col0\" >Original Data</td>\n",
       "                        <td id=\"T_0f59f_row4_col1\" class=\"data row4 col1\" >(10000, 4)</td>\n",
       "            </tr>\n",
       "            <tr>\n",
       "                        <th id=\"T_0f59f_level0_row5\" class=\"row_heading level0 row5\" >5</th>\n",
       "                        <td id=\"T_0f59f_row5_col0\" class=\"data row5 col0\" >Missing Values</td>\n",
       "                        <td id=\"T_0f59f_row5_col1\" class=\"data row5 col1\" >False</td>\n",
       "            </tr>\n",
       "            <tr>\n",
       "                        <th id=\"T_0f59f_level0_row6\" class=\"row_heading level0 row6\" >6</th>\n",
       "                        <td id=\"T_0f59f_row6_col0\" class=\"data row6 col0\" >Numeric Features</td>\n",
       "                        <td id=\"T_0f59f_row6_col1\" class=\"data row6 col1\" >3</td>\n",
       "            </tr>\n",
       "            <tr>\n",
       "                        <th id=\"T_0f59f_level0_row7\" class=\"row_heading level0 row7\" >7</th>\n",
       "                        <td id=\"T_0f59f_row7_col0\" class=\"data row7 col0\" >Categorical Features</td>\n",
       "                        <td id=\"T_0f59f_row7_col1\" class=\"data row7 col1\" >0</td>\n",
       "            </tr>\n",
       "            <tr>\n",
       "                        <th id=\"T_0f59f_level0_row8\" class=\"row_heading level0 row8\" >8</th>\n",
       "                        <td id=\"T_0f59f_row8_col0\" class=\"data row8 col0\" >Ordinal Features</td>\n",
       "                        <td id=\"T_0f59f_row8_col1\" class=\"data row8 col1\" >False</td>\n",
       "            </tr>\n",
       "            <tr>\n",
       "                        <th id=\"T_0f59f_level0_row9\" class=\"row_heading level0 row9\" >9</th>\n",
       "                        <td id=\"T_0f59f_row9_col0\" class=\"data row9 col0\" >High Cardinality Features</td>\n",
       "                        <td id=\"T_0f59f_row9_col1\" class=\"data row9 col1\" >False</td>\n",
       "            </tr>\n",
       "            <tr>\n",
       "                        <th id=\"T_0f59f_level0_row10\" class=\"row_heading level0 row10\" >10</th>\n",
       "                        <td id=\"T_0f59f_row10_col0\" class=\"data row10 col0\" >High Cardinality Method</td>\n",
       "                        <td id=\"T_0f59f_row10_col1\" class=\"data row10 col1\" >None</td>\n",
       "            </tr>\n",
       "            <tr>\n",
       "                        <th id=\"T_0f59f_level0_row11\" class=\"row_heading level0 row11\" >11</th>\n",
       "                        <td id=\"T_0f59f_row11_col0\" class=\"data row11 col0\" >Transformed Train Set</td>\n",
       "                        <td id=\"T_0f59f_row11_col1\" class=\"data row11 col1\" >(3000, 3)</td>\n",
       "            </tr>\n",
       "            <tr>\n",
       "                        <th id=\"T_0f59f_level0_row12\" class=\"row_heading level0 row12\" >12</th>\n",
       "                        <td id=\"T_0f59f_row12_col0\" class=\"data row12 col0\" >Transformed Test Set</td>\n",
       "                        <td id=\"T_0f59f_row12_col1\" class=\"data row12 col1\" >(7000, 3)</td>\n",
       "            </tr>\n",
       "            <tr>\n",
       "                        <th id=\"T_0f59f_level0_row13\" class=\"row_heading level0 row13\" >13</th>\n",
       "                        <td id=\"T_0f59f_row13_col0\" class=\"data row13 col0\" >Shuffle Train-Test</td>\n",
       "                        <td id=\"T_0f59f_row13_col1\" class=\"data row13 col1\" >True</td>\n",
       "            </tr>\n",
       "            <tr>\n",
       "                        <th id=\"T_0f59f_level0_row14\" class=\"row_heading level0 row14\" >14</th>\n",
       "                        <td id=\"T_0f59f_row14_col0\" class=\"data row14 col0\" >Stratify Train-Test</td>\n",
       "                        <td id=\"T_0f59f_row14_col1\" class=\"data row14 col1\" >False</td>\n",
       "            </tr>\n",
       "            <tr>\n",
       "                        <th id=\"T_0f59f_level0_row15\" class=\"row_heading level0 row15\" >15</th>\n",
       "                        <td id=\"T_0f59f_row15_col0\" class=\"data row15 col0\" >Fold Generator</td>\n",
       "                        <td id=\"T_0f59f_row15_col1\" class=\"data row15 col1\" >StratifiedKFold</td>\n",
       "            </tr>\n",
       "            <tr>\n",
       "                        <th id=\"T_0f59f_level0_row16\" class=\"row_heading level0 row16\" >16</th>\n",
       "                        <td id=\"T_0f59f_row16_col0\" class=\"data row16 col0\" >Fold Number</td>\n",
       "                        <td id=\"T_0f59f_row16_col1\" class=\"data row16 col1\" >10</td>\n",
       "            </tr>\n",
       "            <tr>\n",
       "                        <th id=\"T_0f59f_level0_row17\" class=\"row_heading level0 row17\" >17</th>\n",
       "                        <td id=\"T_0f59f_row17_col0\" class=\"data row17 col0\" >CPU Jobs</td>\n",
       "                        <td id=\"T_0f59f_row17_col1\" class=\"data row17 col1\" >-1</td>\n",
       "            </tr>\n",
       "            <tr>\n",
       "                        <th id=\"T_0f59f_level0_row18\" class=\"row_heading level0 row18\" >18</th>\n",
       "                        <td id=\"T_0f59f_row18_col0\" class=\"data row18 col0\" >Use GPU</td>\n",
       "                        <td id=\"T_0f59f_row18_col1\" class=\"data row18 col1\" >False</td>\n",
       "            </tr>\n",
       "            <tr>\n",
       "                        <th id=\"T_0f59f_level0_row19\" class=\"row_heading level0 row19\" >19</th>\n",
       "                        <td id=\"T_0f59f_row19_col0\" class=\"data row19 col0\" >Log Experiment</td>\n",
       "                        <td id=\"T_0f59f_row19_col1\" class=\"data row19 col1\" >True</td>\n",
       "            </tr>\n",
       "            <tr>\n",
       "                        <th id=\"T_0f59f_level0_row20\" class=\"row_heading level0 row20\" >20</th>\n",
       "                        <td id=\"T_0f59f_row20_col0\" class=\"data row20 col0\" >Experiment Name</td>\n",
       "                        <td id=\"T_0f59f_row20_col1\" class=\"data row20 col1\" >rain_tomorrow_exp</td>\n",
       "            </tr>\n",
       "            <tr>\n",
       "                        <th id=\"T_0f59f_level0_row21\" class=\"row_heading level0 row21\" >21</th>\n",
       "                        <td id=\"T_0f59f_row21_col0\" class=\"data row21 col0\" >USI</td>\n",
       "                        <td id=\"T_0f59f_row21_col1\" class=\"data row21 col1\" >042b</td>\n",
       "            </tr>\n",
       "            <tr>\n",
       "                        <th id=\"T_0f59f_level0_row22\" class=\"row_heading level0 row22\" >22</th>\n",
       "                        <td id=\"T_0f59f_row22_col0\" class=\"data row22 col0\" >Imputation Type</td>\n",
       "                        <td id=\"T_0f59f_row22_col1\" class=\"data row22 col1\" >simple</td>\n",
       "            </tr>\n",
       "            <tr>\n",
       "                        <th id=\"T_0f59f_level0_row23\" class=\"row_heading level0 row23\" >23</th>\n",
       "                        <td id=\"T_0f59f_row23_col0\" class=\"data row23 col0\" >Iterative Imputation Iteration</td>\n",
       "                        <td id=\"T_0f59f_row23_col1\" class=\"data row23 col1\" >None</td>\n",
       "            </tr>\n",
       "            <tr>\n",
       "                        <th id=\"T_0f59f_level0_row24\" class=\"row_heading level0 row24\" >24</th>\n",
       "                        <td id=\"T_0f59f_row24_col0\" class=\"data row24 col0\" >Numeric Imputer</td>\n",
       "                        <td id=\"T_0f59f_row24_col1\" class=\"data row24 col1\" >median</td>\n",
       "            </tr>\n",
       "            <tr>\n",
       "                        <th id=\"T_0f59f_level0_row25\" class=\"row_heading level0 row25\" >25</th>\n",
       "                        <td id=\"T_0f59f_row25_col0\" class=\"data row25 col0\" >Iterative Imputation Numeric Model</td>\n",
       "                        <td id=\"T_0f59f_row25_col1\" class=\"data row25 col1\" >None</td>\n",
       "            </tr>\n",
       "            <tr>\n",
       "                        <th id=\"T_0f59f_level0_row26\" class=\"row_heading level0 row26\" >26</th>\n",
       "                        <td id=\"T_0f59f_row26_col0\" class=\"data row26 col0\" >Categorical Imputer</td>\n",
       "                        <td id=\"T_0f59f_row26_col1\" class=\"data row26 col1\" >constant</td>\n",
       "            </tr>\n",
       "            <tr>\n",
       "                        <th id=\"T_0f59f_level0_row27\" class=\"row_heading level0 row27\" >27</th>\n",
       "                        <td id=\"T_0f59f_row27_col0\" class=\"data row27 col0\" >Iterative Imputation Categorical Model</td>\n",
       "                        <td id=\"T_0f59f_row27_col1\" class=\"data row27 col1\" >None</td>\n",
       "            </tr>\n",
       "            <tr>\n",
       "                        <th id=\"T_0f59f_level0_row28\" class=\"row_heading level0 row28\" >28</th>\n",
       "                        <td id=\"T_0f59f_row28_col0\" class=\"data row28 col0\" >Unknown Categoricals Handling</td>\n",
       "                        <td id=\"T_0f59f_row28_col1\" class=\"data row28 col1\" >most_frequent</td>\n",
       "            </tr>\n",
       "            <tr>\n",
       "                        <th id=\"T_0f59f_level0_row29\" class=\"row_heading level0 row29\" >29</th>\n",
       "                        <td id=\"T_0f59f_row29_col0\" class=\"data row29 col0\" >Normalize</td>\n",
       "                        <td id=\"T_0f59f_row29_col1\" class=\"data row29 col1\" >True</td>\n",
       "            </tr>\n",
       "            <tr>\n",
       "                        <th id=\"T_0f59f_level0_row30\" class=\"row_heading level0 row30\" >30</th>\n",
       "                        <td id=\"T_0f59f_row30_col0\" class=\"data row30 col0\" >Normalize Method</td>\n",
       "                        <td id=\"T_0f59f_row30_col1\" class=\"data row30 col1\" >zscore</td>\n",
       "            </tr>\n",
       "            <tr>\n",
       "                        <th id=\"T_0f59f_level0_row31\" class=\"row_heading level0 row31\" >31</th>\n",
       "                        <td id=\"T_0f59f_row31_col0\" class=\"data row31 col0\" >Transformation</td>\n",
       "                        <td id=\"T_0f59f_row31_col1\" class=\"data row31 col1\" >True</td>\n",
       "            </tr>\n",
       "            <tr>\n",
       "                        <th id=\"T_0f59f_level0_row32\" class=\"row_heading level0 row32\" >32</th>\n",
       "                        <td id=\"T_0f59f_row32_col0\" class=\"data row32 col0\" >Transformation Method</td>\n",
       "                        <td id=\"T_0f59f_row32_col1\" class=\"data row32 col1\" >yeo-johnson</td>\n",
       "            </tr>\n",
       "            <tr>\n",
       "                        <th id=\"T_0f59f_level0_row33\" class=\"row_heading level0 row33\" >33</th>\n",
       "                        <td id=\"T_0f59f_row33_col0\" class=\"data row33 col0\" >PCA</td>\n",
       "                        <td id=\"T_0f59f_row33_col1\" class=\"data row33 col1\" >False</td>\n",
       "            </tr>\n",
       "            <tr>\n",
       "                        <th id=\"T_0f59f_level0_row34\" class=\"row_heading level0 row34\" >34</th>\n",
       "                        <td id=\"T_0f59f_row34_col0\" class=\"data row34 col0\" >PCA Method</td>\n",
       "                        <td id=\"T_0f59f_row34_col1\" class=\"data row34 col1\" >None</td>\n",
       "            </tr>\n",
       "            <tr>\n",
       "                        <th id=\"T_0f59f_level0_row35\" class=\"row_heading level0 row35\" >35</th>\n",
       "                        <td id=\"T_0f59f_row35_col0\" class=\"data row35 col0\" >PCA Components</td>\n",
       "                        <td id=\"T_0f59f_row35_col1\" class=\"data row35 col1\" >None</td>\n",
       "            </tr>\n",
       "            <tr>\n",
       "                        <th id=\"T_0f59f_level0_row36\" class=\"row_heading level0 row36\" >36</th>\n",
       "                        <td id=\"T_0f59f_row36_col0\" class=\"data row36 col0\" >Ignore Low Variance</td>\n",
       "                        <td id=\"T_0f59f_row36_col1\" class=\"data row36 col1\" >True</td>\n",
       "            </tr>\n",
       "            <tr>\n",
       "                        <th id=\"T_0f59f_level0_row37\" class=\"row_heading level0 row37\" >37</th>\n",
       "                        <td id=\"T_0f59f_row37_col0\" class=\"data row37 col0\" >Combine Rare Levels</td>\n",
       "                        <td id=\"T_0f59f_row37_col1\" class=\"data row37 col1\" >True</td>\n",
       "            </tr>\n",
       "            <tr>\n",
       "                        <th id=\"T_0f59f_level0_row38\" class=\"row_heading level0 row38\" >38</th>\n",
       "                        <td id=\"T_0f59f_row38_col0\" class=\"data row38 col0\" >Rare Level Threshold</td>\n",
       "                        <td id=\"T_0f59f_row38_col1\" class=\"data row38 col1\" >0.100000</td>\n",
       "            </tr>\n",
       "            <tr>\n",
       "                        <th id=\"T_0f59f_level0_row39\" class=\"row_heading level0 row39\" >39</th>\n",
       "                        <td id=\"T_0f59f_row39_col0\" class=\"data row39 col0\" >Numeric Binning</td>\n",
       "                        <td id=\"T_0f59f_row39_col1\" class=\"data row39 col1\" >False</td>\n",
       "            </tr>\n",
       "            <tr>\n",
       "                        <th id=\"T_0f59f_level0_row40\" class=\"row_heading level0 row40\" >40</th>\n",
       "                        <td id=\"T_0f59f_row40_col0\" class=\"data row40 col0\" >Remove Outliers</td>\n",
       "                        <td id=\"T_0f59f_row40_col1\" class=\"data row40 col1\" >False</td>\n",
       "            </tr>\n",
       "            <tr>\n",
       "                        <th id=\"T_0f59f_level0_row41\" class=\"row_heading level0 row41\" >41</th>\n",
       "                        <td id=\"T_0f59f_row41_col0\" class=\"data row41 col0\" >Outliers Threshold</td>\n",
       "                        <td id=\"T_0f59f_row41_col1\" class=\"data row41 col1\" >None</td>\n",
       "            </tr>\n",
       "            <tr>\n",
       "                        <th id=\"T_0f59f_level0_row42\" class=\"row_heading level0 row42\" >42</th>\n",
       "                        <td id=\"T_0f59f_row42_col0\" class=\"data row42 col0\" >Remove Multicollinearity</td>\n",
       "                        <td id=\"T_0f59f_row42_col1\" class=\"data row42 col1\" >True</td>\n",
       "            </tr>\n",
       "            <tr>\n",
       "                        <th id=\"T_0f59f_level0_row43\" class=\"row_heading level0 row43\" >43</th>\n",
       "                        <td id=\"T_0f59f_row43_col0\" class=\"data row43 col0\" >Multicollinearity Threshold</td>\n",
       "                        <td id=\"T_0f59f_row43_col1\" class=\"data row43 col1\" >0.950000</td>\n",
       "            </tr>\n",
       "            <tr>\n",
       "                        <th id=\"T_0f59f_level0_row44\" class=\"row_heading level0 row44\" >44</th>\n",
       "                        <td id=\"T_0f59f_row44_col0\" class=\"data row44 col0\" >Clustering</td>\n",
       "                        <td id=\"T_0f59f_row44_col1\" class=\"data row44 col1\" >False</td>\n",
       "            </tr>\n",
       "            <tr>\n",
       "                        <th id=\"T_0f59f_level0_row45\" class=\"row_heading level0 row45\" >45</th>\n",
       "                        <td id=\"T_0f59f_row45_col0\" class=\"data row45 col0\" >Clustering Iteration</td>\n",
       "                        <td id=\"T_0f59f_row45_col1\" class=\"data row45 col1\" >None</td>\n",
       "            </tr>\n",
       "            <tr>\n",
       "                        <th id=\"T_0f59f_level0_row46\" class=\"row_heading level0 row46\" >46</th>\n",
       "                        <td id=\"T_0f59f_row46_col0\" class=\"data row46 col0\" >Polynomial Features</td>\n",
       "                        <td id=\"T_0f59f_row46_col1\" class=\"data row46 col1\" >False</td>\n",
       "            </tr>\n",
       "            <tr>\n",
       "                        <th id=\"T_0f59f_level0_row47\" class=\"row_heading level0 row47\" >47</th>\n",
       "                        <td id=\"T_0f59f_row47_col0\" class=\"data row47 col0\" >Polynomial Degree</td>\n",
       "                        <td id=\"T_0f59f_row47_col1\" class=\"data row47 col1\" >None</td>\n",
       "            </tr>\n",
       "            <tr>\n",
       "                        <th id=\"T_0f59f_level0_row48\" class=\"row_heading level0 row48\" >48</th>\n",
       "                        <td id=\"T_0f59f_row48_col0\" class=\"data row48 col0\" >Trignometry Features</td>\n",
       "                        <td id=\"T_0f59f_row48_col1\" class=\"data row48 col1\" >False</td>\n",
       "            </tr>\n",
       "            <tr>\n",
       "                        <th id=\"T_0f59f_level0_row49\" class=\"row_heading level0 row49\" >49</th>\n",
       "                        <td id=\"T_0f59f_row49_col0\" class=\"data row49 col0\" >Polynomial Threshold</td>\n",
       "                        <td id=\"T_0f59f_row49_col1\" class=\"data row49 col1\" >None</td>\n",
       "            </tr>\n",
       "            <tr>\n",
       "                        <th id=\"T_0f59f_level0_row50\" class=\"row_heading level0 row50\" >50</th>\n",
       "                        <td id=\"T_0f59f_row50_col0\" class=\"data row50 col0\" >Group Features</td>\n",
       "                        <td id=\"T_0f59f_row50_col1\" class=\"data row50 col1\" >False</td>\n",
       "            </tr>\n",
       "            <tr>\n",
       "                        <th id=\"T_0f59f_level0_row51\" class=\"row_heading level0 row51\" >51</th>\n",
       "                        <td id=\"T_0f59f_row51_col0\" class=\"data row51 col0\" >Feature Selection</td>\n",
       "                        <td id=\"T_0f59f_row51_col1\" class=\"data row51 col1\" >True</td>\n",
       "            </tr>\n",
       "            <tr>\n",
       "                        <th id=\"T_0f59f_level0_row52\" class=\"row_heading level0 row52\" >52</th>\n",
       "                        <td id=\"T_0f59f_row52_col0\" class=\"data row52 col0\" >Feature Selection Method</td>\n",
       "                        <td id=\"T_0f59f_row52_col1\" class=\"data row52 col1\" >classic</td>\n",
       "            </tr>\n",
       "            <tr>\n",
       "                        <th id=\"T_0f59f_level0_row53\" class=\"row_heading level0 row53\" >53</th>\n",
       "                        <td id=\"T_0f59f_row53_col0\" class=\"data row53 col0\" >Features Selection Threshold</td>\n",
       "                        <td id=\"T_0f59f_row53_col1\" class=\"data row53 col1\" >0.800000</td>\n",
       "            </tr>\n",
       "            <tr>\n",
       "                        <th id=\"T_0f59f_level0_row54\" class=\"row_heading level0 row54\" >54</th>\n",
       "                        <td id=\"T_0f59f_row54_col0\" class=\"data row54 col0\" >Feature Interaction</td>\n",
       "                        <td id=\"T_0f59f_row54_col1\" class=\"data row54 col1\" >False</td>\n",
       "            </tr>\n",
       "            <tr>\n",
       "                        <th id=\"T_0f59f_level0_row55\" class=\"row_heading level0 row55\" >55</th>\n",
       "                        <td id=\"T_0f59f_row55_col0\" class=\"data row55 col0\" >Feature Ratio</td>\n",
       "                        <td id=\"T_0f59f_row55_col1\" class=\"data row55 col1\" >False</td>\n",
       "            </tr>\n",
       "            <tr>\n",
       "                        <th id=\"T_0f59f_level0_row56\" class=\"row_heading level0 row56\" >56</th>\n",
       "                        <td id=\"T_0f59f_row56_col0\" class=\"data row56 col0\" >Interaction Threshold</td>\n",
       "                        <td id=\"T_0f59f_row56_col1\" class=\"data row56 col1\" >None</td>\n",
       "            </tr>\n",
       "            <tr>\n",
       "                        <th id=\"T_0f59f_level0_row57\" class=\"row_heading level0 row57\" >57</th>\n",
       "                        <td id=\"T_0f59f_row57_col0\" class=\"data row57 col0\" >Fix Imbalance</td>\n",
       "                        <td id=\"T_0f59f_row57_col1\" class=\"data row57 col1\" >True</td>\n",
       "            </tr>\n",
       "            <tr>\n",
       "                        <th id=\"T_0f59f_level0_row58\" class=\"row_heading level0 row58\" >58</th>\n",
       "                        <td id=\"T_0f59f_row58_col0\" class=\"data row58 col0\" >Fix Imbalance Method</td>\n",
       "                        <td id=\"T_0f59f_row58_col1\" class=\"data row58 col1\" >SMOTE</td>\n",
       "            </tr>\n",
       "    </tbody></table>"
      ],
      "text/plain": [
       "<pandas.io.formats.style.Styler at 0x1dc4f5e9d30>"
      ]
     },
     "metadata": {},
     "output_type": "display_data"
    },
    {
     "data": {
      "text/html": [
       "\n",
       "                <audio  controls=\"controls\" autoplay=\"autoplay\">\n",
       "                    <source src=\"https://sound.peal.io/ps/audios/000/000/537/original/woo_vu_luvub_dub_dub.wav\" type=\"audio/wav\" />\n",
       "                    Your browser does not support the audio element.\n",
       "                </audio>\n",
       "              "
      ],
      "text/plain": [
       "<IPython.lib.display.Audio object>"
      ]
     },
     "metadata": {},
     "output_type": "display_data"
    }
   ],
   "source": [
    "#%% Model\n",
    "from pycaret.classification import *\n",
    "clf1 = setup(data = albert, target = 'target'\n",
    "             , silent = True\n",
    "             , log_experiment = True, experiment_name = 'rain_tomorrow_exp'\n",
    "             , log_plots = True, log_profile = True, log_data = True\n",
    "             #, profile = True #, profile_kwargs = True\n",
    "             , train_size = 0.3\n",
    "             #, sampling = True\n",
    "             , numeric_imputation = 'median', categorical_imputation = 'constant'\n",
    "             , normalize = True, normalize_method = 'zscore'\n",
    "             , handle_unknown_categorical = True, unknown_categorical_method = 'most_frequent'\n",
    "             , fix_imbalance = True\n",
    "             , transformation = True, transformation_method = 'yeo-johnson'\n",
    "             , combine_rare_levels = True, rare_level_threshold = 0.1\n",
    "             , feature_selection = True, feature_selection_threshold = 0.8\n",
    "             , remove_multicollinearity = True, multicollinearity_threshold = 0.95\n",
    "             , pca = False\n",
    "             , ignore_low_variance = True\n",
    "             , fold_strategy = 'stratifiedkfold'\n",
    "             , fold = 10\n",
    "             , use_gpu = False\n",
    "              )\n",
    "\n",
    "logs = get_logs(save=True)\n",
    "\n",
    "allDone()"
   ]
  },
  {
   "cell_type": "code",
   "execution_count": null,
   "id": "a485b08f",
   "metadata": {},
   "outputs": [],
   "source": [
    "data = seasoned_rain.sample(frac=0.95, random_state=786)\n",
    "data_unseen = seasoned_rain.drop(data.index)\n",
    "\n",
    "data.reset_index(inplace=True, drop=True)\n",
    "data_unseen.reset_index(inplace=True, drop=True)\n",
    "\n",
    "print('Data for Modeling: ' + str(data.shape))\n",
    "print('Unseen Data For Predictions ' + str(data_unseen.shape))\n",
    "logs = get_logs(save=True)\n",
    "\n",
    "allDone()"
   ]
  },
  {
   "cell_type": "code",
   "execution_count": 10,
   "id": "4e038faa",
   "metadata": {
    "ExecuteTime": {
     "end_time": "2021-06-09T04:15:38.723341Z",
     "start_time": "2021-06-09T04:15:11.254522Z"
    }
   },
   "outputs": [
    {
     "data": {
      "text/html": [
       "<style  type=\"text/css\" >\n",
       "    #T_e5783_ th {\n",
       "          text-align: left;\n",
       "    }#T_e5783_row0_col0,#T_e5783_row0_col2,#T_e5783_row0_col3,#T_e5783_row0_col4,#T_e5783_row0_col6,#T_e5783_row0_col7,#T_e5783_row1_col0,#T_e5783_row1_col1,#T_e5783_row1_col2,#T_e5783_row1_col3,#T_e5783_row1_col4,#T_e5783_row1_col5,#T_e5783_row1_col6,#T_e5783_row1_col7,#T_e5783_row2_col0,#T_e5783_row2_col1,#T_e5783_row2_col2,#T_e5783_row2_col3,#T_e5783_row2_col4,#T_e5783_row2_col5,#T_e5783_row2_col6,#T_e5783_row2_col7,#T_e5783_row3_col0,#T_e5783_row3_col1,#T_e5783_row3_col2,#T_e5783_row3_col3,#T_e5783_row3_col4,#T_e5783_row3_col5,#T_e5783_row3_col6,#T_e5783_row3_col7,#T_e5783_row4_col0,#T_e5783_row4_col1,#T_e5783_row4_col2,#T_e5783_row4_col3,#T_e5783_row4_col4,#T_e5783_row4_col5,#T_e5783_row4_col6,#T_e5783_row4_col7,#T_e5783_row5_col0,#T_e5783_row5_col1,#T_e5783_row5_col2,#T_e5783_row5_col3,#T_e5783_row5_col4,#T_e5783_row5_col5,#T_e5783_row5_col6,#T_e5783_row5_col7,#T_e5783_row6_col0,#T_e5783_row6_col1,#T_e5783_row6_col2,#T_e5783_row6_col3,#T_e5783_row6_col4,#T_e5783_row6_col5,#T_e5783_row6_col6,#T_e5783_row6_col7,#T_e5783_row7_col0,#T_e5783_row7_col1,#T_e5783_row7_col2,#T_e5783_row7_col4,#T_e5783_row7_col5,#T_e5783_row8_col0,#T_e5783_row8_col1,#T_e5783_row8_col2,#T_e5783_row8_col3,#T_e5783_row8_col4,#T_e5783_row8_col5,#T_e5783_row8_col6,#T_e5783_row8_col7,#T_e5783_row9_col0,#T_e5783_row9_col1,#T_e5783_row9_col2,#T_e5783_row9_col3,#T_e5783_row9_col4,#T_e5783_row9_col5,#T_e5783_row9_col6,#T_e5783_row9_col7,#T_e5783_row10_col0,#T_e5783_row10_col1,#T_e5783_row10_col2,#T_e5783_row10_col3,#T_e5783_row10_col4,#T_e5783_row10_col5,#T_e5783_row10_col6,#T_e5783_row10_col7,#T_e5783_row11_col0,#T_e5783_row11_col1,#T_e5783_row11_col2,#T_e5783_row11_col3,#T_e5783_row11_col5,#T_e5783_row11_col6,#T_e5783_row11_col7,#T_e5783_row12_col0,#T_e5783_row12_col1,#T_e5783_row12_col2,#T_e5783_row12_col3,#T_e5783_row12_col4,#T_e5783_row12_col5,#T_e5783_row12_col6,#T_e5783_row12_col7,#T_e5783_row13_col0,#T_e5783_row13_col1,#T_e5783_row13_col3,#T_e5783_row13_col4,#T_e5783_row13_col5,#T_e5783_row13_col6,#T_e5783_row13_col7{\n",
       "            text-align:  left;\n",
       "            text-align:  left;\n",
       "        }#T_e5783_row0_col1,#T_e5783_row0_col5,#T_e5783_row7_col3,#T_e5783_row7_col6,#T_e5783_row7_col7,#T_e5783_row11_col4,#T_e5783_row13_col2{\n",
       "            text-align:  left;\n",
       "            text-align:  left;\n",
       "            background-color:  yellow;\n",
       "        }#T_e5783_row0_col8,#T_e5783_row1_col8,#T_e5783_row2_col8,#T_e5783_row3_col8,#T_e5783_row4_col8,#T_e5783_row5_col8,#T_e5783_row6_col8,#T_e5783_row7_col8,#T_e5783_row8_col8,#T_e5783_row9_col8,#T_e5783_row10_col8,#T_e5783_row11_col8{\n",
       "            text-align:  left;\n",
       "            text-align:  left;\n",
       "            background-color:  lightgrey;\n",
       "        }#T_e5783_row12_col8,#T_e5783_row13_col8{\n",
       "            text-align:  left;\n",
       "            text-align:  left;\n",
       "            background-color:  yellow;\n",
       "            background-color:  lightgrey;\n",
       "        }</style><table id=\"T_e5783_\" ><thead>    <tr>        <th class=\"blank level0\" ></th>        <th class=\"col_heading level0 col0\" >Model</th>        <th class=\"col_heading level0 col1\" >Accuracy</th>        <th class=\"col_heading level0 col2\" >AUC</th>        <th class=\"col_heading level0 col3\" >Recall</th>        <th class=\"col_heading level0 col4\" >Prec.</th>        <th class=\"col_heading level0 col5\" >F1</th>        <th class=\"col_heading level0 col6\" >Kappa</th>        <th class=\"col_heading level0 col7\" >MCC</th>        <th class=\"col_heading level0 col8\" >TT (Sec)</th>    </tr></thead><tbody>\n",
       "                <tr>\n",
       "                        <th id=\"T_e5783_level0_row0\" class=\"row_heading level0 row0\" >et</th>\n",
       "                        <td id=\"T_e5783_row0_col0\" class=\"data row0 col0\" >Extra Trees Classifier</td>\n",
       "                        <td id=\"T_e5783_row0_col1\" class=\"data row0 col1\" >0.4390</td>\n",
       "                        <td id=\"T_e5783_row0_col2\" class=\"data row0 col2\" >0.4993</td>\n",
       "                        <td id=\"T_e5783_row0_col3\" class=\"data row0 col3\" >0.3329</td>\n",
       "                        <td id=\"T_e5783_row0_col4\" class=\"data row0 col4\" >0.4664</td>\n",
       "                        <td id=\"T_e5783_row0_col5\" class=\"data row0 col5\" >0.4505</td>\n",
       "                        <td id=\"T_e5783_row0_col6\" class=\"data row0 col6\" >-0.0005</td>\n",
       "                        <td id=\"T_e5783_row0_col7\" class=\"data row0 col7\" >-0.0005</td>\n",
       "                        <td id=\"T_e5783_row0_col8\" class=\"data row0 col8\" >0.1240</td>\n",
       "            </tr>\n",
       "            <tr>\n",
       "                        <th id=\"T_e5783_level0_row1\" class=\"row_heading level0 row1\" >rf</th>\n",
       "                        <td id=\"T_e5783_row1_col0\" class=\"data row1 col0\" >Random Forest Classifier</td>\n",
       "                        <td id=\"T_e5783_row1_col1\" class=\"data row1 col1\" >0.4273</td>\n",
       "                        <td id=\"T_e5783_row1_col2\" class=\"data row1 col2\" >0.4929</td>\n",
       "                        <td id=\"T_e5783_row1_col3\" class=\"data row1 col3\" >0.3285</td>\n",
       "                        <td id=\"T_e5783_row1_col4\" class=\"data row1 col4\" >0.4660</td>\n",
       "                        <td id=\"T_e5783_row1_col5\" class=\"data row1 col5\" >0.4439</td>\n",
       "                        <td id=\"T_e5783_row1_col6\" class=\"data row1 col6\" >-0.0020</td>\n",
       "                        <td id=\"T_e5783_row1_col7\" class=\"data row1 col7\" >-0.0021</td>\n",
       "                        <td id=\"T_e5783_row1_col8\" class=\"data row1 col8\" >0.1610</td>\n",
       "            </tr>\n",
       "            <tr>\n",
       "                        <th id=\"T_e5783_level0_row2\" class=\"row_heading level0 row2\" >dt</th>\n",
       "                        <td id=\"T_e5783_row2_col0\" class=\"data row2 col0\" >Decision Tree Classifier</td>\n",
       "                        <td id=\"T_e5783_row2_col1\" class=\"data row2 col1\" >0.4033</td>\n",
       "                        <td id=\"T_e5783_row2_col2\" class=\"data row2 col2\" >0.4981</td>\n",
       "                        <td id=\"T_e5783_row2_col3\" class=\"data row2 col3\" >0.3264</td>\n",
       "                        <td id=\"T_e5783_row2_col4\" class=\"data row2 col4\" >0.4656</td>\n",
       "                        <td id=\"T_e5783_row2_col5\" class=\"data row2 col5\" >0.4276</td>\n",
       "                        <td id=\"T_e5783_row2_col6\" class=\"data row2 col6\" >-0.0015</td>\n",
       "                        <td id=\"T_e5783_row2_col7\" class=\"data row2 col7\" >-0.0018</td>\n",
       "                        <td id=\"T_e5783_row2_col8\" class=\"data row2 col8\" >0.0110</td>\n",
       "            </tr>\n",
       "            <tr>\n",
       "                        <th id=\"T_e5783_level0_row3\" class=\"row_heading level0 row3\" >lightgbm</th>\n",
       "                        <td id=\"T_e5783_row3_col0\" class=\"data row3 col0\" >Light Gradient Boosting Machine</td>\n",
       "                        <td id=\"T_e5783_row3_col1\" class=\"data row3 col1\" >0.3960</td>\n",
       "                        <td id=\"T_e5783_row3_col2\" class=\"data row3 col2\" >0.5093</td>\n",
       "                        <td id=\"T_e5783_row3_col3\" class=\"data row3 col3\" >0.3306</td>\n",
       "                        <td id=\"T_e5783_row3_col4\" class=\"data row3 col4\" >0.4733</td>\n",
       "                        <td id=\"T_e5783_row3_col5\" class=\"data row3 col5\" >0.4254</td>\n",
       "                        <td id=\"T_e5783_row3_col6\" class=\"data row3 col6\" >0.0065</td>\n",
       "                        <td id=\"T_e5783_row3_col7\" class=\"data row3 col7\" >0.0067</td>\n",
       "                        <td id=\"T_e5783_row3_col8\" class=\"data row3 col8\" >0.1710</td>\n",
       "            </tr>\n",
       "            <tr>\n",
       "                        <th id=\"T_e5783_level0_row4\" class=\"row_heading level0 row4\" >xgboost</th>\n",
       "                        <td id=\"T_e5783_row4_col0\" class=\"data row4 col0\" >Extreme Gradient Boosting</td>\n",
       "                        <td id=\"T_e5783_row4_col1\" class=\"data row4 col1\" >0.3797</td>\n",
       "                        <td id=\"T_e5783_row4_col2\" class=\"data row4 col2\" >0.4970</td>\n",
       "                        <td id=\"T_e5783_row4_col3\" class=\"data row4 col3\" >0.3264</td>\n",
       "                        <td id=\"T_e5783_row4_col4\" class=\"data row4 col4\" >0.4581</td>\n",
       "                        <td id=\"T_e5783_row4_col5\" class=\"data row4 col5\" >0.4071</td>\n",
       "                        <td id=\"T_e5783_row4_col6\" class=\"data row4 col6\" >-0.0125</td>\n",
       "                        <td id=\"T_e5783_row4_col7\" class=\"data row4 col7\" >-0.0129</td>\n",
       "                        <td id=\"T_e5783_row4_col8\" class=\"data row4 col8\" >0.5990</td>\n",
       "            </tr>\n",
       "            <tr>\n",
       "                        <th id=\"T_e5783_level0_row5\" class=\"row_heading level0 row5\" >svm</th>\n",
       "                        <td id=\"T_e5783_row5_col0\" class=\"data row5 col0\" >SVM - Linear Kernel</td>\n",
       "                        <td id=\"T_e5783_row5_col1\" class=\"data row5 col1\" >0.3780</td>\n",
       "                        <td id=\"T_e5783_row5_col2\" class=\"data row5 col2\" >0.0000</td>\n",
       "                        <td id=\"T_e5783_row5_col3\" class=\"data row5 col3\" >0.3396</td>\n",
       "                        <td id=\"T_e5783_row5_col4\" class=\"data row5 col4\" >0.4711</td>\n",
       "                        <td id=\"T_e5783_row5_col5\" class=\"data row5 col5\" >0.3740</td>\n",
       "                        <td id=\"T_e5783_row5_col6\" class=\"data row5 col6\" >0.0096</td>\n",
       "                        <td id=\"T_e5783_row5_col7\" class=\"data row5 col7\" >0.0083</td>\n",
       "                        <td id=\"T_e5783_row5_col8\" class=\"data row5 col8\" >0.0180</td>\n",
       "            </tr>\n",
       "            <tr>\n",
       "                        <th id=\"T_e5783_level0_row6\" class=\"row_heading level0 row6\" >knn</th>\n",
       "                        <td id=\"T_e5783_row6_col0\" class=\"data row6 col0\" >K Neighbors Classifier</td>\n",
       "                        <td id=\"T_e5783_row6_col1\" class=\"data row6 col1\" >0.3733</td>\n",
       "                        <td id=\"T_e5783_row6_col2\" class=\"data row6 col2\" >0.4965</td>\n",
       "                        <td id=\"T_e5783_row6_col3\" class=\"data row6 col3\" >0.3298</td>\n",
       "                        <td id=\"T_e5783_row6_col4\" class=\"data row6 col4\" >0.4639</td>\n",
       "                        <td id=\"T_e5783_row6_col5\" class=\"data row6 col5\" >0.4048</td>\n",
       "                        <td id=\"T_e5783_row6_col6\" class=\"data row6 col6\" >-0.0034</td>\n",
       "                        <td id=\"T_e5783_row6_col7\" class=\"data row6 col7\" >-0.0037</td>\n",
       "                        <td id=\"T_e5783_row6_col8\" class=\"data row6 col8\" >0.0100</td>\n",
       "            </tr>\n",
       "            <tr>\n",
       "                        <th id=\"T_e5783_level0_row7\" class=\"row_heading level0 row7\" >ridge</th>\n",
       "                        <td id=\"T_e5783_row7_col0\" class=\"data row7 col0\" >Ridge Classifier</td>\n",
       "                        <td id=\"T_e5783_row7_col1\" class=\"data row7 col1\" >0.3513</td>\n",
       "                        <td id=\"T_e5783_row7_col2\" class=\"data row7 col2\" >0.0000</td>\n",
       "                        <td id=\"T_e5783_row7_col3\" class=\"data row7 col3\" >0.3510</td>\n",
       "                        <td id=\"T_e5783_row7_col4\" class=\"data row7 col4\" >0.4766</td>\n",
       "                        <td id=\"T_e5783_row7_col5\" class=\"data row7 col5\" >0.3866</td>\n",
       "                        <td id=\"T_e5783_row7_col6\" class=\"data row7 col6\" >0.0128</td>\n",
       "                        <td id=\"T_e5783_row7_col7\" class=\"data row7 col7\" >0.0147</td>\n",
       "                        <td id=\"T_e5783_row7_col8\" class=\"data row7 col8\" >0.0100</td>\n",
       "            </tr>\n",
       "            <tr>\n",
       "                        <th id=\"T_e5783_level0_row8\" class=\"row_heading level0 row8\" >lr</th>\n",
       "                        <td id=\"T_e5783_row8_col0\" class=\"data row8 col0\" >Logistic Regression</td>\n",
       "                        <td id=\"T_e5783_row8_col1\" class=\"data row8 col1\" >0.3510</td>\n",
       "                        <td id=\"T_e5783_row8_col2\" class=\"data row8 col2\" >0.5100</td>\n",
       "                        <td id=\"T_e5783_row8_col3\" class=\"data row8 col3\" >0.3504</td>\n",
       "                        <td id=\"T_e5783_row8_col4\" class=\"data row8 col4\" >0.4767</td>\n",
       "                        <td id=\"T_e5783_row8_col5\" class=\"data row8 col5\" >0.3864</td>\n",
       "                        <td id=\"T_e5783_row8_col6\" class=\"data row8 col6\" >0.0126</td>\n",
       "                        <td id=\"T_e5783_row8_col7\" class=\"data row8 col7\" >0.0145</td>\n",
       "                        <td id=\"T_e5783_row8_col8\" class=\"data row8 col8\" >0.0180</td>\n",
       "            </tr>\n",
       "            <tr>\n",
       "                        <th id=\"T_e5783_level0_row9\" class=\"row_heading level0 row9\" >lda</th>\n",
       "                        <td id=\"T_e5783_row9_col0\" class=\"data row9 col0\" >Linear Discriminant Analysis</td>\n",
       "                        <td id=\"T_e5783_row9_col1\" class=\"data row9 col1\" >0.3510</td>\n",
       "                        <td id=\"T_e5783_row9_col2\" class=\"data row9 col2\" >0.5100</td>\n",
       "                        <td id=\"T_e5783_row9_col3\" class=\"data row9 col3\" >0.3504</td>\n",
       "                        <td id=\"T_e5783_row9_col4\" class=\"data row9 col4\" >0.4763</td>\n",
       "                        <td id=\"T_e5783_row9_col5\" class=\"data row9 col5\" >0.3863</td>\n",
       "                        <td id=\"T_e5783_row9_col6\" class=\"data row9 col6\" >0.0124</td>\n",
       "                        <td id=\"T_e5783_row9_col7\" class=\"data row9 col7\" >0.0143</td>\n",
       "                        <td id=\"T_e5783_row9_col8\" class=\"data row9 col8\" >0.0060</td>\n",
       "            </tr>\n",
       "            <tr>\n",
       "                        <th id=\"T_e5783_level0_row10\" class=\"row_heading level0 row10\" >gbc</th>\n",
       "                        <td id=\"T_e5783_row10_col0\" class=\"data row10 col0\" >Gradient Boosting Classifier</td>\n",
       "                        <td id=\"T_e5783_row10_col1\" class=\"data row10 col1\" >0.3287</td>\n",
       "                        <td id=\"T_e5783_row10_col2\" class=\"data row10 col2\" >0.5038</td>\n",
       "                        <td id=\"T_e5783_row10_col3\" class=\"data row10 col3\" >0.3305</td>\n",
       "                        <td id=\"T_e5783_row10_col4\" class=\"data row10 col4\" >0.4668</td>\n",
       "                        <td id=\"T_e5783_row10_col5\" class=\"data row10 col5\" >0.3651</td>\n",
       "                        <td id=\"T_e5783_row10_col6\" class=\"data row10 col6\" >-0.0016</td>\n",
       "                        <td id=\"T_e5783_row10_col7\" class=\"data row10 col7\" >-0.0020</td>\n",
       "                        <td id=\"T_e5783_row10_col8\" class=\"data row10 col8\" >0.3210</td>\n",
       "            </tr>\n",
       "            <tr>\n",
       "                        <th id=\"T_e5783_level0_row11\" class=\"row_heading level0 row11\" >ada</th>\n",
       "                        <td id=\"T_e5783_row11_col0\" class=\"data row11 col0\" >Ada Boost Classifier</td>\n",
       "                        <td id=\"T_e5783_row11_col1\" class=\"data row11 col1\" >0.3210</td>\n",
       "                        <td id=\"T_e5783_row11_col2\" class=\"data row11 col2\" >0.5078</td>\n",
       "                        <td id=\"T_e5783_row11_col3\" class=\"data row11 col3\" >0.3357</td>\n",
       "                        <td id=\"T_e5783_row11_col4\" class=\"data row11 col4\" >0.4780</td>\n",
       "                        <td id=\"T_e5783_row11_col5\" class=\"data row11 col5\" >0.3597</td>\n",
       "                        <td id=\"T_e5783_row11_col6\" class=\"data row11 col6\" >0.0073</td>\n",
       "                        <td id=\"T_e5783_row11_col7\" class=\"data row11 col7\" >0.0081</td>\n",
       "                        <td id=\"T_e5783_row11_col8\" class=\"data row11 col8\" >0.0600</td>\n",
       "            </tr>\n",
       "            <tr>\n",
       "                        <th id=\"T_e5783_level0_row12\" class=\"row_heading level0 row12\" >qda</th>\n",
       "                        <td id=\"T_e5783_row12_col0\" class=\"data row12 col0\" >Quadratic Discriminant Analysis</td>\n",
       "                        <td id=\"T_e5783_row12_col1\" class=\"data row12 col1\" >0.3170</td>\n",
       "                        <td id=\"T_e5783_row12_col2\" class=\"data row12 col2\" >0.5076</td>\n",
       "                        <td id=\"T_e5783_row12_col3\" class=\"data row12 col3\" >0.3328</td>\n",
       "                        <td id=\"T_e5783_row12_col4\" class=\"data row12 col4\" >0.4756</td>\n",
       "                        <td id=\"T_e5783_row12_col5\" class=\"data row12 col5\" >0.3566</td>\n",
       "                        <td id=\"T_e5783_row12_col6\" class=\"data row12 col6\" >0.0037</td>\n",
       "                        <td id=\"T_e5783_row12_col7\" class=\"data row12 col7\" >0.0047</td>\n",
       "                        <td id=\"T_e5783_row12_col8\" class=\"data row12 col8\" >0.0050</td>\n",
       "            </tr>\n",
       "            <tr>\n",
       "                        <th id=\"T_e5783_level0_row13\" class=\"row_heading level0 row13\" >nb</th>\n",
       "                        <td id=\"T_e5783_row13_col0\" class=\"data row13 col0\" >Naive Bayes</td>\n",
       "                        <td id=\"T_e5783_row13_col1\" class=\"data row13 col1\" >0.3130</td>\n",
       "                        <td id=\"T_e5783_row13_col2\" class=\"data row13 col2\" >0.5107</td>\n",
       "                        <td id=\"T_e5783_row13_col3\" class=\"data row13 col3\" >0.3378</td>\n",
       "                        <td id=\"T_e5783_row13_col4\" class=\"data row13 col4\" >0.4777</td>\n",
       "                        <td id=\"T_e5783_row13_col5\" class=\"data row13 col5\" >0.3539</td>\n",
       "                        <td id=\"T_e5783_row13_col6\" class=\"data row13 col6\" >0.0072</td>\n",
       "                        <td id=\"T_e5783_row13_col7\" class=\"data row13 col7\" >0.0092</td>\n",
       "                        <td id=\"T_e5783_row13_col8\" class=\"data row13 col8\" >0.0050</td>\n",
       "            </tr>\n",
       "    </tbody></table>"
      ],
      "text/plain": [
       "<pandas.io.formats.style.Styler at 0x1dc52ffdc70>"
      ]
     },
     "metadata": {},
     "output_type": "display_data"
    },
    {
     "data": {
      "text/html": [
       "\n",
       "                <audio  controls=\"controls\" autoplay=\"autoplay\">\n",
       "                    <source src=\"https://sound.peal.io/ps/audios/000/000/537/original/woo_vu_luvub_dub_dub.wav\" type=\"audio/wav\" />\n",
       "                    Your browser does not support the audio element.\n",
       "                </audio>\n",
       "              "
      ],
      "text/plain": [
       "<IPython.lib.display.Audio object>"
      ]
     },
     "metadata": {},
     "output_type": "display_data"
    },
    {
     "name": "stdout",
     "output_type": "stream",
     "text": [
      "ExtraTreesClassifier(bootstrap=False, ccp_alpha=0.0, class_weight=None,\n",
      "                     criterion='gini', max_depth=None, max_features='auto',\n",
      "                     max_leaf_nodes=None, max_samples=None,\n",
      "                     min_impurity_decrease=0.0, min_impurity_split=None,\n",
      "                     min_samples_leaf=1, min_samples_split=2,\n",
      "                     min_weight_fraction_leaf=0.0, n_estimators=100, n_jobs=-1,\n",
      "                     oob_score=False, random_state=5481, verbose=0,\n",
      "                     warm_start=False)\n"
     ]
    },
    {
     "data": {
      "text/html": [
       "\n",
       "                <audio  controls=\"controls\" autoplay=\"autoplay\">\n",
       "                    <source src=\"https://sound.peal.io/ps/audios/000/000/537/original/woo_vu_luvub_dub_dub.wav\" type=\"audio/wav\" />\n",
       "                    Your browser does not support the audio element.\n",
       "                </audio>\n",
       "              "
      ],
      "text/plain": [
       "<IPython.lib.display.Audio object>"
      ]
     },
     "metadata": {},
     "output_type": "display_data"
    },
    {
     "name": "stdout",
     "output_type": "stream",
     "text": [
      "Transformation Pipeline and Model Succesfully Saved\n"
     ]
    },
    {
     "data": {
      "text/plain": [
       "(Pipeline(memory=None,\n",
       "          steps=[('dtypes',\n",
       "                  DataTypes_Auto_infer(categorical_features=[],\n",
       "                                       display_types=False, features_todrop=[],\n",
       "                                       id_columns=[],\n",
       "                                       ml_usecase='classification',\n",
       "                                       numerical_features=[], target='target',\n",
       "                                       time_features=[])),\n",
       "                 ('imputer',\n",
       "                  Simple_Imputer(categorical_strategy='not_available',\n",
       "                                 fill_value_categorical=None,\n",
       "                                 fill_value_numerical=None,\n",
       "                                 numeric_stra...\n",
       "                  ExtraTreesClassifier(bootstrap=False, ccp_alpha=0.0,\n",
       "                                       class_weight=None, criterion='gini',\n",
       "                                       max_depth=None, max_features='auto',\n",
       "                                       max_leaf_nodes=None, max_samples=None,\n",
       "                                       min_impurity_decrease=0.0,\n",
       "                                       min_impurity_split=None,\n",
       "                                       min_samples_leaf=1, min_samples_split=2,\n",
       "                                       min_weight_fraction_leaf=0.0,\n",
       "                                       n_estimators=100, n_jobs=-1,\n",
       "                                       oob_score=False, random_state=5481,\n",
       "                                       verbose=0, warm_start=False)]],\n",
       "          verbose=False),\n",
       " 'best.pkl')"
      ]
     },
     "execution_count": 10,
     "metadata": {},
     "output_type": "execute_result"
    },
    {
     "data": {
      "text/html": [
       "\n",
       "                <audio  controls=\"controls\" autoplay=\"autoplay\">\n",
       "                    <source src=\"https://sound.peal.io/ps/audios/000/000/537/original/woo_vu_luvub_dub_dub.wav\" type=\"audio/wav\" />\n",
       "                    Your browser does not support the audio element.\n",
       "                </audio>\n",
       "              "
      ],
      "text/plain": [
       "<IPython.lib.display.Audio object>"
      ]
     },
     "metadata": {},
     "output_type": "display_data"
    }
   ],
   "source": [
    "# return best model\n",
    "best = compare_models()  #default is 'Accuracy'\n",
    "allDone()\n",
    "print(best)\n",
    "allDone()\n",
    "\n",
    "save_model(best, 'best')\n",
    "logs = get_logs(save=True)\n",
    "allDone()"
   ]
  },
  {
   "cell_type": "code",
   "execution_count": 11,
   "id": "8a9c6465",
   "metadata": {
    "ExecuteTime": {
     "end_time": "2021-06-09T04:15:43.600926Z",
     "start_time": "2021-06-09T04:15:38.725337Z"
    }
   },
   "outputs": [
    {
     "data": {
      "image/png": "[encoded data removed]",
      "text/plain": [
       "<Figure size 576x396 with 1 Axes>"
      ]
     },
     "metadata": {},
     "output_type": "display_data"
    }
   ],
   "source": [
    "model_best = create_model(best,fold = 10)\n",
    "plot_model(model_best)"
   ]
  },
  {
   "cell_type": "code",
   "execution_count": 12,
   "id": "67be506d",
   "metadata": {
    "ExecuteTime": {
     "end_time": "2021-06-09T04:16:30.011813Z",
     "start_time": "2021-06-09T04:15:55.228408Z"
    }
   },
   "outputs": [
    {
     "data": {
      "image/png": "[encoded data removed]",
      "text/plain": [
       "<Figure size 576x396 with 1 Axes>"
      ]
     },
     "metadata": {},
     "output_type": "display_data"
    },
    {
     "data": {
      "text/html": [
       "\n",
       "                <audio  controls=\"controls\" autoplay=\"autoplay\">\n",
       "                    <source src=\"https://sound.peal.io/ps/audios/000/000/537/original/woo_vu_luvub_dub_dub.wav\" type=\"audio/wav\" />\n",
       "                    Your browser does not support the audio element.\n",
       "                </audio>\n",
       "              "
      ],
      "text/plain": [
       "<IPython.lib.display.Audio object>"
      ]
     },
     "metadata": {},
     "output_type": "display_data"
    },
    {
     "name": "stdout",
     "output_type": "stream",
     "text": [
      "Transformation Pipeline and Model Succesfully Saved\n"
     ]
    },
    {
     "data": {
      "text/plain": [
       "(Pipeline(memory=None,\n",
       "          steps=[('dtypes',\n",
       "                  DataTypes_Auto_infer(categorical_features=[],\n",
       "                                       display_types=False, features_todrop=[],\n",
       "                                       id_columns=[],\n",
       "                                       ml_usecase='classification',\n",
       "                                       numerical_features=[], target='target',\n",
       "                                       time_features=[])),\n",
       "                 ('imputer',\n",
       "                  Simple_Imputer(categorical_strategy='not_available',\n",
       "                                 fill_value_categorical=None,\n",
       "                                 fill_value_numerical=None,\n",
       "                                 numeric_stra...\n",
       "                  ExtraTreesClassifier(bootstrap=False, ccp_alpha=0.0,\n",
       "                                       class_weight='balanced', criterion='gini',\n",
       "                                       max_depth=7, max_features='log2',\n",
       "                                       max_leaf_nodes=None, max_samples=None,\n",
       "                                       min_impurity_decrease=0.3,\n",
       "                                       min_impurity_split=None,\n",
       "                                       min_samples_leaf=3, min_samples_split=7,\n",
       "                                       min_weight_fraction_leaf=0.0,\n",
       "                                       n_estimators=10, n_jobs=-1,\n",
       "                                       oob_score=False, random_state=5481,\n",
       "                                       verbose=0, warm_start=False)]],\n",
       "          verbose=False),\n",
       " 'tuned_model.pkl')"
      ]
     },
     "execution_count": 12,
     "metadata": {},
     "output_type": "execute_result"
    },
    {
     "data": {
      "text/html": [
       "\n",
       "                <audio  controls=\"controls\" autoplay=\"autoplay\">\n",
       "                    <source src=\"https://sound.peal.io/ps/audios/000/000/537/original/woo_vu_luvub_dub_dub.wav\" type=\"audio/wav\" />\n",
       "                    Your browser does not support the audio element.\n",
       "                </audio>\n",
       "              "
      ],
      "text/plain": [
       "<IPython.lib.display.Audio object>"
      ]
     },
     "metadata": {},
     "output_type": "display_data"
    }
   ],
   "source": [
    "tuned_model = tune_model(model_best, n_iter = 50)\n",
    "allDone()\n",
    "plot_model(tuned_model)\n",
    "allDone()\n",
    "\n",
    "save_model(tuned_model, 'tuned_model')\n",
    "logs = get_logs(save=True)\n",
    "allDone()"
   ]
  },
  {
   "cell_type": "code",
   "execution_count": 13,
   "id": "6621344a",
   "metadata": {
    "ExecuteTime": {
     "end_time": "2021-06-09T04:16:31.122400Z",
     "start_time": "2021-06-09T04:16:30.013807Z"
    }
   },
   "outputs": [
    {
     "data": {
      "text/html": [
       "<div>\n",
       "<style scoped>\n",
       "    .dataframe tbody tr th:only-of-type {\n",
       "        vertical-align: middle;\n",
       "    }\n",
       "\n",
       "    .dataframe tbody tr th {\n",
       "        vertical-align: top;\n",
       "    }\n",
       "\n",
       "    .dataframe thead th {\n",
       "        text-align: right;\n",
       "    }\n",
       "</style>\n",
       "<table border=\"1\" class=\"dataframe\">\n",
       "  <thead>\n",
       "    <tr style=\"text-align: right;\">\n",
       "      <th></th>\n",
       "      <th>Parameters</th>\n",
       "    </tr>\n",
       "  </thead>\n",
       "  <tbody>\n",
       "    <tr>\n",
       "      <th>bootstrap</th>\n",
       "      <td>False</td>\n",
       "    </tr>\n",
       "    <tr>\n",
       "      <th>ccp_alpha</th>\n",
       "      <td>0.0</td>\n",
       "    </tr>\n",
       "    <tr>\n",
       "      <th>class_weight</th>\n",
       "      <td>balanced</td>\n",
       "    </tr>\n",
       "    <tr>\n",
       "      <th>criterion</th>\n",
       "      <td>gini</td>\n",
       "    </tr>\n",
       "    <tr>\n",
       "      <th>max_depth</th>\n",
       "      <td>7</td>\n",
       "    </tr>\n",
       "    <tr>\n",
       "      <th>max_features</th>\n",
       "      <td>log2</td>\n",
       "    </tr>\n",
       "    <tr>\n",
       "      <th>max_leaf_nodes</th>\n",
       "      <td>None</td>\n",
       "    </tr>\n",
       "    <tr>\n",
       "      <th>max_samples</th>\n",
       "      <td>None</td>\n",
       "    </tr>\n",
       "    <tr>\n",
       "      <th>min_impurity_decrease</th>\n",
       "      <td>0.3</td>\n",
       "    </tr>\n",
       "    <tr>\n",
       "      <th>min_impurity_split</th>\n",
       "      <td>None</td>\n",
       "    </tr>\n",
       "    <tr>\n",
       "      <th>min_samples_leaf</th>\n",
       "      <td>3</td>\n",
       "    </tr>\n",
       "    <tr>\n",
       "      <th>min_samples_split</th>\n",
       "      <td>7</td>\n",
       "    </tr>\n",
       "    <tr>\n",
       "      <th>min_weight_fraction_leaf</th>\n",
       "      <td>0.0</td>\n",
       "    </tr>\n",
       "    <tr>\n",
       "      <th>n_estimators</th>\n",
       "      <td>10</td>\n",
       "    </tr>\n",
       "    <tr>\n",
       "      <th>n_jobs</th>\n",
       "      <td>-1</td>\n",
       "    </tr>\n",
       "    <tr>\n",
       "      <th>oob_score</th>\n",
       "      <td>False</td>\n",
       "    </tr>\n",
       "    <tr>\n",
       "      <th>random_state</th>\n",
       "      <td>5481</td>\n",
       "    </tr>\n",
       "    <tr>\n",
       "      <th>verbose</th>\n",
       "      <td>0</td>\n",
       "    </tr>\n",
       "    <tr>\n",
       "      <th>warm_start</th>\n",
       "      <td>False</td>\n",
       "    </tr>\n",
       "  </tbody>\n",
       "</table>\n",
       "</div>"
      ],
      "text/plain": [
       "                         Parameters\n",
       "bootstrap                     False\n",
       "ccp_alpha                       0.0\n",
       "class_weight               balanced\n",
       "criterion                      gini\n",
       "max_depth                         7\n",
       "max_features                   log2\n",
       "max_leaf_nodes                 None\n",
       "max_samples                    None\n",
       "min_impurity_decrease           0.3\n",
       "min_impurity_split             None\n",
       "min_samples_leaf                  3\n",
       "min_samples_split                 7\n",
       "min_weight_fraction_leaf        0.0\n",
       "n_estimators                     10\n",
       "n_jobs                           -1\n",
       "oob_score                     False\n",
       "random_state                   5481\n",
       "verbose                           0\n",
       "warm_start                    False"
      ]
     },
     "metadata": {},
     "output_type": "display_data"
    },
    {
     "data": {
      "text/html": [
       "\n",
       "                <audio  controls=\"controls\" autoplay=\"autoplay\">\n",
       "                    <source src=\"https://sound.peal.io/ps/audios/000/000/537/original/woo_vu_luvub_dub_dub.wav\" type=\"audio/wav\" />\n",
       "                    Your browser does not support the audio element.\n",
       "                </audio>\n",
       "              "
      ],
      "text/plain": [
       "<IPython.lib.display.Audio object>"
      ]
     },
     "metadata": {},
     "output_type": "display_data"
    },
    {
     "data": {
      "text/html": [
       "\n",
       "                <audio  controls=\"controls\" autoplay=\"autoplay\">\n",
       "                    <source src=\"https://sound.peal.io/ps/audios/000/000/537/original/woo_vu_luvub_dub_dub.wav\" type=\"audio/wav\" />\n",
       "                    Your browser does not support the audio element.\n",
       "                </audio>\n",
       "              "
      ],
      "text/plain": [
       "<IPython.lib.display.Audio object>"
      ]
     },
     "metadata": {},
     "output_type": "display_data"
    }
   ],
   "source": [
    "plot_model(tuned_model, plot = 'parameter')\n",
    "allDone()\n",
    "logs = get_logs(save=True)\n",
    "\n",
    "allDone()"
   ]
  },
  {
   "cell_type": "code",
   "execution_count": null,
   "id": "ac675a87",
   "metadata": {},
   "outputs": [],
   "source": []
  },
  {
   "cell_type": "code",
   "execution_count": 14,
   "id": "78e238b2",
   "metadata": {
    "ExecuteTime": {
     "end_time": "2021-06-09T04:16:55.396426Z",
     "start_time": "2021-06-09T04:16:50.628318Z"
    }
   },
   "outputs": [
    {
     "data": {
      "image/png": "[encoded data removed]",
      "text/plain": [
       "<Figure size 576x396 with 1 Axes>"
      ]
     },
     "metadata": {},
     "output_type": "display_data"
    },
    {
     "data": {
      "text/html": [
       "\n",
       "                <audio  controls=\"controls\" autoplay=\"autoplay\">\n",
       "                    <source src=\"https://sound.peal.io/ps/audios/000/000/537/original/woo_vu_luvub_dub_dub.wav\" type=\"audio/wav\" />\n",
       "                    Your browser does not support the audio element.\n",
       "                </audio>\n",
       "              "
      ],
      "text/plain": [
       "<IPython.lib.display.Audio object>"
      ]
     },
     "metadata": {},
     "output_type": "display_data"
    },
    {
     "name": "stdout",
     "output_type": "stream",
     "text": [
      "[ExtraTreesClassifier(bootstrap=False, ccp_alpha=0.0, class_weight='balanced',\n",
      "                     criterion='gini', max_depth=7, max_features='log2',\n",
      "                     max_leaf_nodes=None, max_samples=None,\n",
      "                     min_impurity_decrease=0.3, min_impurity_split=None,\n",
      "                     min_samples_leaf=3, min_samples_split=7,\n",
      "                     min_weight_fraction_leaf=0.0, n_estimators=10, n_jobs=-1,\n",
      "                     oob_score=False, random_state=1055107916, verbose=0,\n",
      "                     warm_start=False), ExtraTreesClassifier(bootstrap=False, ccp_alpha=0.0, class_weight='balanced',\n",
      "                     criterion='gini', max_depth=7, max_features='log2',\n",
      "                     max_leaf_nodes=None, max_samples=None,\n",
      "                     min_impurity_decrease=0.3, min_impurity_split=None,\n",
      "                     min_samples_leaf=3, min_samples_split=7,\n",
      "                     min_weight_fraction_leaf=0.0, n_estimators=10, n_jobs=-1,\n",
      "                     oob_score=False, random_state=346791805, verbose=0,\n",
      "                     warm_start=False), ExtraTreesClassifier(bootstrap=False, ccp_alpha=0.0, class_weight='balanced',\n",
      "                     criterion='gini', max_depth=7, max_features='log2',\n",
      "                     max_leaf_nodes=None, max_samples=None,\n",
      "                     min_impurity_decrease=0.3, min_impurity_split=None,\n",
      "                     min_samples_leaf=3, min_samples_split=7,\n",
      "                     min_weight_fraction_leaf=0.0, n_estimators=10, n_jobs=-1,\n",
      "                     oob_score=False, random_state=784655831, verbose=0,\n",
      "                     warm_start=False), ExtraTreesClassifier(bootstrap=False, ccp_alpha=0.0, class_weight='balanced',\n",
      "                     criterion='gini', max_depth=7, max_features='log2',\n",
      "                     max_leaf_nodes=None, max_samples=None,\n",
      "                     min_impurity_decrease=0.3, min_impurity_split=None,\n",
      "                     min_samples_leaf=3, min_samples_split=7,\n",
      "                     min_weight_fraction_leaf=0.0, n_estimators=10, n_jobs=-1,\n",
      "                     oob_score=False, random_state=1623686563, verbose=0,\n",
      "                     warm_start=False), ExtraTreesClassifier(bootstrap=False, ccp_alpha=0.0, class_weight='balanced',\n",
      "                     criterion='gini', max_depth=7, max_features='log2',\n",
      "                     max_leaf_nodes=None, max_samples=None,\n",
      "                     min_impurity_decrease=0.3, min_impurity_split=None,\n",
      "                     min_samples_leaf=3, min_samples_split=7,\n",
      "                     min_weight_fraction_leaf=0.0, n_estimators=10, n_jobs=-1,\n",
      "                     oob_score=False, random_state=2010013678, verbose=0,\n",
      "                     warm_start=False), ExtraTreesClassifier(bootstrap=False, ccp_alpha=0.0, class_weight='balanced',\n",
      "                     criterion='gini', max_depth=7, max_features='log2',\n",
      "                     max_leaf_nodes=None, max_samples=None,\n",
      "                     min_impurity_decrease=0.3, min_impurity_split=None,\n",
      "                     min_samples_leaf=3, min_samples_split=7,\n",
      "                     min_weight_fraction_leaf=0.0, n_estimators=10, n_jobs=-1,\n",
      "                     oob_score=False, random_state=490097652, verbose=0,\n",
      "                     warm_start=False), ExtraTreesClassifier(bootstrap=False, ccp_alpha=0.0, class_weight='balanced',\n",
      "                     criterion='gini', max_depth=7, max_features='log2',\n",
      "                     max_leaf_nodes=None, max_samples=None,\n",
      "                     min_impurity_decrease=0.3, min_impurity_split=None,\n",
      "                     min_samples_leaf=3, min_samples_split=7,\n",
      "                     min_weight_fraction_leaf=0.0, n_estimators=10, n_jobs=-1,\n",
      "                     oob_score=False, random_state=1579067615, verbose=0,\n",
      "                     warm_start=False), ExtraTreesClassifier(bootstrap=False, ccp_alpha=0.0, class_weight='balanced',\n",
      "                     criterion='gini', max_depth=7, max_features='log2',\n",
      "                     max_leaf_nodes=None, max_samples=None,\n",
      "                     min_impurity_decrease=0.3, min_impurity_split=None,\n",
      "                     min_samples_leaf=3, min_samples_split=7,\n",
      "                     min_weight_fraction_leaf=0.0, n_estimators=10, n_jobs=-1,\n",
      "                     oob_score=False, random_state=772421269, verbose=0,\n",
      "                     warm_start=False), ExtraTreesClassifier(bootstrap=False, ccp_alpha=0.0, class_weight='balanced',\n",
      "                     criterion='gini', max_depth=7, max_features='log2',\n",
      "                     max_leaf_nodes=None, max_samples=None,\n",
      "                     min_impurity_decrease=0.3, min_impurity_split=None,\n",
      "                     min_samples_leaf=3, min_samples_split=7,\n",
      "                     min_weight_fraction_leaf=0.0, n_estimators=10, n_jobs=-1,\n",
      "                     oob_score=False, random_state=1595027796, verbose=0,\n",
      "                     warm_start=False), ExtraTreesClassifier(bootstrap=False, ccp_alpha=0.0, class_weight='balanced',\n",
      "                     criterion='gini', max_depth=7, max_features='log2',\n",
      "                     max_leaf_nodes=None, max_samples=None,\n",
      "                     min_impurity_decrease=0.3, min_impurity_split=None,\n",
      "                     min_samples_leaf=3, min_samples_split=7,\n",
      "                     min_weight_fraction_leaf=0.0, n_estimators=10, n_jobs=-1,\n",
      "                     oob_score=False, random_state=1398216741, verbose=0,\n",
      "                     warm_start=False)]\n",
      "Transformation Pipeline and Model Succesfully Saved\n"
     ]
    },
    {
     "data": {
      "text/plain": [
       "(Pipeline(memory=None,\n",
       "          steps=[('dtypes',\n",
       "                  DataTypes_Auto_infer(categorical_features=[],\n",
       "                                       display_types=False, features_todrop=[],\n",
       "                                       id_columns=[],\n",
       "                                       ml_usecase='classification',\n",
       "                                       numerical_features=[], target='target',\n",
       "                                       time_features=[])),\n",
       "                 ('imputer',\n",
       "                  Simple_Imputer(categorical_strategy='not_available',\n",
       "                                 fill_value_categorical=None,\n",
       "                                 fill_value_numerical=None,\n",
       "                                 numeric_stra...\n",
       "                                                                        min_impurity_split=None,\n",
       "                                                                        min_samples_leaf=3,\n",
       "                                                                        min_samples_split=7,\n",
       "                                                                        min_weight_fraction_leaf=0.0,\n",
       "                                                                        n_estimators=10,\n",
       "                                                                        n_jobs=-1,\n",
       "                                                                        oob_score=False,\n",
       "                                                                        random_state=5481,\n",
       "                                                                        verbose=0,\n",
       "                                                                        warm_start=False),\n",
       "                                    bootstrap=True, bootstrap_features=False,\n",
       "                                    max_features=1.0, max_samples=1.0,\n",
       "                                    n_estimators=10, n_jobs=None,\n",
       "                                    oob_score=False, random_state=5481,\n",
       "                                    verbose=0, warm_start=False)]],\n",
       "          verbose=False),\n",
       " 'bagged_tuned_model.pkl')"
      ]
     },
     "execution_count": 14,
     "metadata": {},
     "output_type": "execute_result"
    },
    {
     "data": {
      "text/html": [
       "\n",
       "                <audio  controls=\"controls\" autoplay=\"autoplay\">\n",
       "                    <source src=\"https://sound.peal.io/ps/audios/000/000/537/original/woo_vu_luvub_dub_dub.wav\" type=\"audio/wav\" />\n",
       "                    Your browser does not support the audio element.\n",
       "                </audio>\n",
       "              "
      ],
      "text/plain": [
       "<IPython.lib.display.Audio object>"
      ]
     },
     "metadata": {},
     "output_type": "display_data"
    }
   ],
   "source": [
    "# With Bagging\n",
    "bagged_tuned_model = ensemble_model(tuned_model, method = 'Bagging', n_estimators = 10) # n_estimators = 100\n",
    "allDone()\n",
    "plot_model(bagged_tuned_model)\n",
    "allDone()\n",
    "print(bagged_tuned_model.estimators_)\n",
    "\n",
    "save_model(bagged_tuned_model, 'bagged_tuned_model')\n",
    "allDone()\n",
    "logs = get_logs(save=True)"
   ]
  },
  {
   "cell_type": "code",
   "execution_count": 15,
   "id": "6dfba9e4",
   "metadata": {
    "ExecuteTime": {
     "end_time": "2021-06-09T04:17:15.326496Z",
     "start_time": "2021-06-09T04:17:06.822496Z"
    }
   },
   "outputs": [
    {
     "data": {
      "image/png": "[encoded data removed]",
      "text/plain": [
       "<Figure size 576x396 with 1 Axes>"
      ]
     },
     "metadata": {},
     "output_type": "display_data"
    },
    {
     "data": {
      "text/html": [
       "\n",
       "                <audio  controls=\"controls\" autoplay=\"autoplay\">\n",
       "                    <source src=\"https://sound.peal.io/ps/audios/000/000/537/original/woo_vu_luvub_dub_dub.wav\" type=\"audio/wav\" />\n",
       "                    Your browser does not support the audio element.\n",
       "                </audio>\n",
       "              "
      ],
      "text/plain": [
       "<IPython.lib.display.Audio object>"
      ]
     },
     "metadata": {},
     "output_type": "display_data"
    },
    {
     "name": "stdout",
     "output_type": "stream",
     "text": [
      "[ExtraTreesClassifier(bootstrap=False, ccp_alpha=0.0, class_weight='balanced',\n",
      "                     criterion='gini', max_depth=7, max_features='log2',\n",
      "                     max_leaf_nodes=None, max_samples=None,\n",
      "                     min_impurity_decrease=0.3, min_impurity_split=None,\n",
      "                     min_samples_leaf=3, min_samples_split=7,\n",
      "                     min_weight_fraction_leaf=0.0, n_estimators=10, n_jobs=-1,\n",
      "                     oob_score=False, random_state=1555427058, verbose=0,\n",
      "                     warm_start=False), ExtraTreesClassifier(bootstrap=False, ccp_alpha=0.0, class_weight='balanced',\n",
      "                     criterion='gini', max_depth=7, max_features='log2',\n",
      "                     max_leaf_nodes=None, max_samples=None,\n",
      "                     min_impurity_decrease=0.3, min_impurity_split=None,\n",
      "                     min_samples_leaf=3, min_samples_split=7,\n",
      "                     min_weight_fraction_leaf=0.0, n_estimators=10, n_jobs=-1,\n",
      "                     oob_score=False, random_state=90006499, verbose=0,\n",
      "                     warm_start=False), ExtraTreesClassifier(bootstrap=False, ccp_alpha=0.0, class_weight='balanced',\n",
      "                     criterion='gini', max_depth=7, max_features='log2',\n",
      "                     max_leaf_nodes=None, max_samples=None,\n",
      "                     min_impurity_decrease=0.3, min_impurity_split=None,\n",
      "                     min_samples_leaf=3, min_samples_split=7,\n",
      "                     min_weight_fraction_leaf=0.0, n_estimators=10, n_jobs=-1,\n",
      "                     oob_score=False, random_state=1500429512, verbose=0,\n",
      "                     warm_start=False), ExtraTreesClassifier(bootstrap=False, ccp_alpha=0.0, class_weight='balanced',\n",
      "                     criterion='gini', max_depth=7, max_features='log2',\n",
      "                     max_leaf_nodes=None, max_samples=None,\n",
      "                     min_impurity_decrease=0.3, min_impurity_split=None,\n",
      "                     min_samples_leaf=3, min_samples_split=7,\n",
      "                     min_weight_fraction_leaf=0.0, n_estimators=10, n_jobs=-1,\n",
      "                     oob_score=False, random_state=1348299605, verbose=0,\n",
      "                     warm_start=False), ExtraTreesClassifier(bootstrap=False, ccp_alpha=0.0, class_weight='balanced',\n",
      "                     criterion='gini', max_depth=7, max_features='log2',\n",
      "                     max_leaf_nodes=None, max_samples=None,\n",
      "                     min_impurity_decrease=0.3, min_impurity_split=None,\n",
      "                     min_samples_leaf=3, min_samples_split=7,\n",
      "                     min_weight_fraction_leaf=0.0, n_estimators=10, n_jobs=-1,\n",
      "                     oob_score=False, random_state=1672799285, verbose=0,\n",
      "                     warm_start=False), ExtraTreesClassifier(bootstrap=False, ccp_alpha=0.0, class_weight='balanced',\n",
      "                     criterion='gini', max_depth=7, max_features='log2',\n",
      "                     max_leaf_nodes=None, max_samples=None,\n",
      "                     min_impurity_decrease=0.3, min_impurity_split=None,\n",
      "                     min_samples_leaf=3, min_samples_split=7,\n",
      "                     min_weight_fraction_leaf=0.0, n_estimators=10, n_jobs=-1,\n",
      "                     oob_score=False, random_state=1447499613, verbose=0,\n",
      "                     warm_start=False), ExtraTreesClassifier(bootstrap=False, ccp_alpha=0.0, class_weight='balanced',\n",
      "                     criterion='gini', max_depth=7, max_features='log2',\n",
      "                     max_leaf_nodes=None, max_samples=None,\n",
      "                     min_impurity_decrease=0.3, min_impurity_split=None,\n",
      "                     min_samples_leaf=3, min_samples_split=7,\n",
      "                     min_weight_fraction_leaf=0.0, n_estimators=10, n_jobs=-1,\n",
      "                     oob_score=False, random_state=705795247, verbose=0,\n",
      "                     warm_start=False), ExtraTreesClassifier(bootstrap=False, ccp_alpha=0.0, class_weight='balanced',\n",
      "                     criterion='gini', max_depth=7, max_features='log2',\n",
      "                     max_leaf_nodes=None, max_samples=None,\n",
      "                     min_impurity_decrease=0.3, min_impurity_split=None,\n",
      "                     min_samples_leaf=3, min_samples_split=7,\n",
      "                     min_weight_fraction_leaf=0.0, n_estimators=10, n_jobs=-1,\n",
      "                     oob_score=False, random_state=1339496929, verbose=0,\n",
      "                     warm_start=False), ExtraTreesClassifier(bootstrap=False, ccp_alpha=0.0, class_weight='balanced',\n",
      "                     criterion='gini', max_depth=7, max_features='log2',\n",
      "                     max_leaf_nodes=None, max_samples=None,\n",
      "                     min_impurity_decrease=0.3, min_impurity_split=None,\n",
      "                     min_samples_leaf=3, min_samples_split=7,\n",
      "                     min_weight_fraction_leaf=0.0, n_estimators=10, n_jobs=-1,\n",
      "                     oob_score=False, random_state=2019112336, verbose=0,\n",
      "                     warm_start=False), ExtraTreesClassifier(bootstrap=False, ccp_alpha=0.0, class_weight='balanced',\n",
      "                     criterion='gini', max_depth=7, max_features='log2',\n",
      "                     max_leaf_nodes=None, max_samples=None,\n",
      "                     min_impurity_decrease=0.3, min_impurity_split=None,\n",
      "                     min_samples_leaf=3, min_samples_split=7,\n",
      "                     min_weight_fraction_leaf=0.0, n_estimators=10, n_jobs=-1,\n",
      "                     oob_score=False, random_state=1993352663, verbose=0,\n",
      "                     warm_start=False)]\n"
     ]
    },
    {
     "data": {
      "text/html": [
       "\n",
       "                <audio  controls=\"controls\" autoplay=\"autoplay\">\n",
       "                    <source src=\"https://sound.peal.io/ps/audios/000/000/537/original/woo_vu_luvub_dub_dub.wav\" type=\"audio/wav\" />\n",
       "                    Your browser does not support the audio element.\n",
       "                </audio>\n",
       "              "
      ],
      "text/plain": [
       "<IPython.lib.display.Audio object>"
      ]
     },
     "metadata": {},
     "output_type": "display_data"
    },
    {
     "name": "stdout",
     "output_type": "stream",
     "text": [
      "Transformation Pipeline and Model Succesfully Saved\n"
     ]
    },
    {
     "data": {
      "text/plain": [
       "(Pipeline(memory=None,\n",
       "          steps=[('dtypes',\n",
       "                  DataTypes_Auto_infer(categorical_features=[],\n",
       "                                       display_types=False, features_todrop=[],\n",
       "                                       id_columns=[],\n",
       "                                       ml_usecase='classification',\n",
       "                                       numerical_features=[], target='target',\n",
       "                                       time_features=[])),\n",
       "                 ('imputer',\n",
       "                  Simple_Imputer(categorical_strategy='not_available',\n",
       "                                 fill_value_categorical=None,\n",
       "                                 fill_value_numerical=None,\n",
       "                                 numeric_stra...\n",
       "                                                                         criterion='gini',\n",
       "                                                                         max_depth=7,\n",
       "                                                                         max_features='log2',\n",
       "                                                                         max_leaf_nodes=None,\n",
       "                                                                         max_samples=None,\n",
       "                                                                         min_impurity_decrease=0.3,\n",
       "                                                                         min_impurity_split=None,\n",
       "                                                                         min_samples_leaf=3,\n",
       "                                                                         min_samples_split=7,\n",
       "                                                                         min_weight_fraction_leaf=0.0,\n",
       "                                                                         n_estimators=10,\n",
       "                                                                         n_jobs=-1,\n",
       "                                                                         oob_score=False,\n",
       "                                                                         random_state=5481,\n",
       "                                                                         verbose=0,\n",
       "                                                                         warm_start=False),\n",
       "                                     learning_rate=1.0, n_estimators=10,\n",
       "                                     random_state=5481)]],\n",
       "          verbose=False),\n",
       " 'boosted_tuned_model.pkl')"
      ]
     },
     "execution_count": 15,
     "metadata": {},
     "output_type": "execute_result"
    },
    {
     "data": {
      "text/html": [
       "\n",
       "                <audio  controls=\"controls\" autoplay=\"autoplay\">\n",
       "                    <source src=\"https://sound.peal.io/ps/audios/000/000/537/original/woo_vu_luvub_dub_dub.wav\" type=\"audio/wav\" />\n",
       "                    Your browser does not support the audio element.\n",
       "                </audio>\n",
       "              "
      ],
      "text/plain": [
       "<IPython.lib.display.Audio object>"
      ]
     },
     "metadata": {},
     "output_type": "display_data"
    }
   ],
   "source": [
    "# With Boosting\n",
    "boosted_tuned_model = ensemble_model(tuned_model, method = 'Boosting', n_estimators = 10) # n_estimators = 100\n",
    "allDone()\n",
    "plot_model(boosted_tuned_model)\n",
    "allDone()\n",
    "print(boosted_tuned_model.estimators_)\n",
    "allDone()\n",
    "logs = get_logs(save=True)\n",
    "\n",
    "save_model(boosted_tuned_model, 'boosted_tuned_model')\n",
    "allDone()\n",
    "logs = get_logs(save=True)"
   ]
  },
  {
   "cell_type": "code",
   "execution_count": 16,
   "id": "18d460f2",
   "metadata": {
    "ExecuteTime": {
     "end_time": "2021-06-09T04:17:25.512693Z",
     "start_time": "2021-06-09T04:17:17.380633Z"
    }
   },
   "outputs": [
    {
     "data": {
      "image/png": "[encoded data removed]",
      "text/plain": [
       "<Figure size 576x396 with 1 Axes>"
      ]
     },
     "metadata": {},
     "output_type": "display_data"
    },
    {
     "data": {
      "text/html": [
       "\n",
       "                <audio  controls=\"controls\" autoplay=\"autoplay\">\n",
       "                    <source src=\"https://sound.peal.io/ps/audios/000/000/537/original/woo_vu_luvub_dub_dub.wav\" type=\"audio/wav\" />\n",
       "                    Your browser does not support the audio element.\n",
       "                </audio>\n",
       "              "
      ],
      "text/plain": [
       "<IPython.lib.display.Audio object>"
      ]
     },
     "metadata": {},
     "output_type": "display_data"
    },
    {
     "name": "stdout",
     "output_type": "stream",
     "text": [
      "[ExtraTreesClassifier(bootstrap=False, ccp_alpha=0.0, class_weight=None,\n",
      "                     criterion='gini', max_depth=None, max_features='auto',\n",
      "                     max_leaf_nodes=None, max_samples=None,\n",
      "                     min_impurity_decrease=0.0, min_impurity_split=None,\n",
      "                     min_samples_leaf=1, min_samples_split=2,\n",
      "                     min_weight_fraction_leaf=0.0, n_estimators=100, n_jobs=-1,\n",
      "                     oob_score=False, random_state=5481, verbose=0,\n",
      "                     warm_start=False), RandomForestClassifier(bootstrap=True, ccp_alpha=0.0, class_weight=None,\n",
      "                       criterion='gini', max_depth=None, max_features='auto',\n",
      "                       max_leaf_nodes=None, max_samples=None,\n",
      "                       min_impurity_decrease=0.0, min_impurity_split=None,\n",
      "                       min_samples_leaf=1, min_samples_split=2,\n",
      "                       min_weight_fraction_leaf=0.0, n_estimators=100,\n",
      "                       n_jobs=-1, oob_score=False, random_state=5481, verbose=0,\n",
      "                       warm_start=False), DecisionTreeClassifier(ccp_alpha=0.0, class_weight=None, criterion='gini',\n",
      "                       max_depth=None, max_features=None, max_leaf_nodes=None,\n",
      "                       min_impurity_decrease=0.0, min_impurity_split=None,\n",
      "                       min_samples_leaf=1, min_samples_split=2,\n",
      "                       min_weight_fraction_leaf=0.0, presort='deprecated',\n",
      "                       random_state=5481, splitter='best')]\n"
     ]
    },
    {
     "data": {
      "text/html": [
       "\n",
       "                <audio  controls=\"controls\" autoplay=\"autoplay\">\n",
       "                    <source src=\"https://sound.peal.io/ps/audios/000/000/537/original/woo_vu_luvub_dub_dub.wav\" type=\"audio/wav\" />\n",
       "                    Your browser does not support the audio element.\n",
       "                </audio>\n",
       "              "
      ],
      "text/plain": [
       "<IPython.lib.display.Audio object>"
      ]
     },
     "metadata": {},
     "output_type": "display_data"
    },
    {
     "name": "stdout",
     "output_type": "stream",
     "text": [
      "Transformation Pipeline and Model Succesfully Saved\n"
     ]
    },
    {
     "data": {
      "text/plain": [
       "(Pipeline(memory=None,\n",
       "          steps=[('dtypes',\n",
       "                  DataTypes_Auto_infer(categorical_features=[],\n",
       "                                       display_types=False, features_todrop=[],\n",
       "                                       id_columns=[],\n",
       "                                       ml_usecase='classification',\n",
       "                                       numerical_features=[], target='target',\n",
       "                                       time_features=[])),\n",
       "                 ('imputer',\n",
       "                  Simple_Imputer(categorical_strategy='not_available',\n",
       "                                 fill_value_categorical=None,\n",
       "                                 fill_value_numerical=None,\n",
       "                                 numeric_stra...\n",
       "                                                                       class_weight=None,\n",
       "                                                                       criterion='gini',\n",
       "                                                                       max_depth=None,\n",
       "                                                                       max_features=None,\n",
       "                                                                       max_leaf_nodes=None,\n",
       "                                                                       min_impurity_decrease=0.0,\n",
       "                                                                       min_impurity_split=None,\n",
       "                                                                       min_samples_leaf=1,\n",
       "                                                                       min_samples_split=2,\n",
       "                                                                       min_weight_fraction_leaf=0.0,\n",
       "                                                                       presort='deprecated',\n",
       "                                                                       random_state=5481,\n",
       "                                                                       splitter='best'))],\n",
       "                                   flatten_transform=True, n_jobs=-1,\n",
       "                                   verbose=False, voting='soft',\n",
       "                                   weights=None)]],\n",
       "          verbose=False),\n",
       " 'blender.pkl')"
      ]
     },
     "execution_count": 16,
     "metadata": {},
     "output_type": "execute_result"
    },
    {
     "data": {
      "text/html": [
       "\n",
       "                <audio  controls=\"controls\" autoplay=\"autoplay\">\n",
       "                    <source src=\"https://sound.peal.io/ps/audios/000/000/537/original/woo_vu_luvub_dub_dub.wav\" type=\"audio/wav\" />\n",
       "                    Your browser does not support the audio element.\n",
       "                </audio>\n",
       "              "
      ],
      "text/plain": [
       "<IPython.lib.display.Audio object>"
      ]
     },
     "metadata": {},
     "output_type": "display_data"
    }
   ],
   "source": [
    "# Blend Models\n",
    "blender = blend_models(top3)\n",
    "plot_model(blender)\n",
    "allDone()\n",
    "print(blender.estimators_)\n",
    "allDone()\n",
    "\n",
    "save_model(blender, 'blender')\n",
    "allDone()\n",
    "logs = get_logs(save=True)"
   ]
  },
  {
   "cell_type": "code",
   "execution_count": 17,
   "id": "6c13930b",
   "metadata": {
    "ExecuteTime": {
     "end_time": "2021-06-09T04:18:10.422434Z",
     "start_time": "2021-06-09T04:17:47.036126Z"
    }
   },
   "outputs": [
    {
     "data": {
      "image/png": "[encoded data removed]",
      "text/plain": [
       "<Figure size 576x396 with 1 Axes>"
      ]
     },
     "metadata": {},
     "output_type": "display_data"
    },
    {
     "data": {
      "text/html": [
       "\n",
       "                <audio  controls=\"controls\" autoplay=\"autoplay\">\n",
       "                    <source src=\"https://sound.peal.io/ps/audios/000/000/537/original/woo_vu_luvub_dub_dub.wav\" type=\"audio/wav\" />\n",
       "                    Your browser does not support the audio element.\n",
       "                </audio>\n",
       "              "
      ],
      "text/plain": [
       "<IPython.lib.display.Audio object>"
      ]
     },
     "metadata": {},
     "output_type": "display_data"
    },
    {
     "name": "stdout",
     "output_type": "stream",
     "text": [
      "[RandomForestClassifier(bootstrap=True, ccp_alpha=0.0, class_weight=None,\n",
      "                       criterion='gini', max_depth=None, max_features='auto',\n",
      "                       max_leaf_nodes=None, max_samples=None,\n",
      "                       min_impurity_decrease=0.0, min_impurity_split=None,\n",
      "                       min_samples_leaf=1, min_samples_split=2,\n",
      "                       min_weight_fraction_leaf=0.0, n_estimators=100,\n",
      "                       n_jobs=-1, oob_score=False, random_state=5481, verbose=0,\n",
      "                       warm_start=False), DecisionTreeClassifier(ccp_alpha=0.0, class_weight=None, criterion='gini',\n",
      "                       max_depth=None, max_features=None, max_leaf_nodes=None,\n",
      "                       min_impurity_decrease=0.0, min_impurity_split=None,\n",
      "                       min_samples_leaf=1, min_samples_split=2,\n",
      "                       min_weight_fraction_leaf=0.0, presort='deprecated',\n",
      "                       random_state=5481, splitter='best')]\n"
     ]
    },
    {
     "data": {
      "text/html": [
       "\n",
       "                <audio  controls=\"controls\" autoplay=\"autoplay\">\n",
       "                    <source src=\"https://sound.peal.io/ps/audios/000/000/537/original/woo_vu_luvub_dub_dub.wav\" type=\"audio/wav\" />\n",
       "                    Your browser does not support the audio element.\n",
       "                </audio>\n",
       "              "
      ],
      "text/plain": [
       "<IPython.lib.display.Audio object>"
      ]
     },
     "metadata": {},
     "output_type": "display_data"
    },
    {
     "name": "stdout",
     "output_type": "stream",
     "text": [
      "Transformation Pipeline and Model Succesfully Saved\n"
     ]
    },
    {
     "data": {
      "text/plain": [
       "(Pipeline(memory=None,\n",
       "          steps=[('dtypes',\n",
       "                  DataTypes_Auto_infer(categorical_features=[],\n",
       "                                       display_types=False, features_todrop=[],\n",
       "                                       id_columns=[],\n",
       "                                       ml_usecase='classification',\n",
       "                                       numerical_features=[], target='target',\n",
       "                                       time_features=[])),\n",
       "                 ('imputer',\n",
       "                  Simple_Imputer(categorical_strategy='not_available',\n",
       "                                 fill_value_categorical=None,\n",
       "                                 fill_value_numerical=None,\n",
       "                                 numeric_stra...\n",
       "                                                                          max_depth=None,\n",
       "                                                                          max_features='auto',\n",
       "                                                                          max_leaf_nodes=None,\n",
       "                                                                          max_samples=None,\n",
       "                                                                          min_impurity_decrease=0.0,\n",
       "                                                                          min_impurity_split=None,\n",
       "                                                                          min_samples_leaf=1,\n",
       "                                                                          min_samples_split=2,\n",
       "                                                                          min_weight_fraction_leaf=0.0,\n",
       "                                                                          n_estimators=100,\n",
       "                                                                          n_jobs=-1,\n",
       "                                                                          oob_score=False,\n",
       "                                                                          random_state=5481,\n",
       "                                                                          verbose=0,\n",
       "                                                                          warm_start=False),\n",
       "                                     n_jobs=-1, passthrough=True,\n",
       "                                     stack_method='auto', verbose=0)]],\n",
       "          verbose=False),\n",
       " 'stacker_top3.pkl')"
      ]
     },
     "execution_count": 17,
     "metadata": {},
     "output_type": "execute_result"
    },
    {
     "data": {
      "text/html": [
       "\n",
       "                <audio  controls=\"controls\" autoplay=\"autoplay\">\n",
       "                    <source src=\"https://sound.peal.io/ps/audios/000/000/537/original/woo_vu_luvub_dub_dub.wav\" type=\"audio/wav\" />\n",
       "                    Your browser does not support the audio element.\n",
       "                </audio>\n",
       "              "
      ],
      "text/plain": [
       "<IPython.lib.display.Audio object>"
      ]
     },
     "metadata": {},
     "output_type": "display_data"
    }
   ],
   "source": [
    "# Stack Model\n",
    "stacker_top3 = stack_models(estimator_list = top3[1:], meta_model = top3[0], restack = True)\n",
    "allDone()\n",
    "plot_model(stacker_top3)\n",
    "allDone()\n",
    "print(stacker_top3.estimators_)\n",
    "allDone()\n",
    "\n",
    "\n",
    "save_model(stacker_top3, 'stacker_top3')\n",
    "allDone()\n",
    "logs = get_logs(save=True)"
   ]
  },
  {
   "cell_type": "code",
   "execution_count": null,
   "id": "59ba1716",
   "metadata": {},
   "outputs": [],
   "source": []
  },
  {
   "cell_type": "code",
   "execution_count": null,
   "id": "92acf4ef",
   "metadata": {},
   "outputs": [],
   "source": []
  },
  {
   "cell_type": "code",
   "execution_count": null,
   "id": "a9a05ab2",
   "metadata": {},
   "outputs": [],
   "source": []
  },
  {
   "cell_type": "code",
   "execution_count": null,
   "id": "a08d6d40",
   "metadata": {},
   "outputs": [],
   "source": []
  },
  {
   "cell_type": "code",
   "execution_count": 22,
   "id": "a54765ac",
   "metadata": {
    "ExecuteTime": {
     "end_time": "2021-06-09T04:21:21.076254Z",
     "start_time": "2021-06-09T04:21:15.667036Z"
    }
   },
   "outputs": [
    {
     "data": {
      "text/html": [
       "<style  type=\"text/css\" >\n",
       "#T_e9358_row10_col0,#T_e9358_row10_col1,#T_e9358_row10_col2,#T_e9358_row10_col3,#T_e9358_row10_col4,#T_e9358_row10_col5,#T_e9358_row10_col6{\n",
       "            background:  yellow;\n",
       "        }</style><table id=\"T_e9358_\" ><thead>    <tr>        <th class=\"blank level0\" ></th>        <th class=\"col_heading level0 col0\" >Accuracy</th>        <th class=\"col_heading level0 col1\" >AUC</th>        <th class=\"col_heading level0 col2\" >Recall</th>        <th class=\"col_heading level0 col3\" >Prec.</th>        <th class=\"col_heading level0 col4\" >F1</th>        <th class=\"col_heading level0 col5\" >Kappa</th>        <th class=\"col_heading level0 col6\" >MCC</th>    </tr></thead><tbody>\n",
       "                <tr>\n",
       "                        <th id=\"T_e9358_level0_row0\" class=\"row_heading level0 row0\" >0</th>\n",
       "                        <td id=\"T_e9358_row0_col0\" class=\"data row0 col0\" >0.6133</td>\n",
       "                        <td id=\"T_e9358_row0_col1\" class=\"data row0 col1\" >0.5000</td>\n",
       "                        <td id=\"T_e9358_row0_col2\" class=\"data row0 col2\" >0.3333</td>\n",
       "                        <td id=\"T_e9358_row0_col3\" class=\"data row0 col3\" >0.3762</td>\n",
       "                        <td id=\"T_e9358_row0_col4\" class=\"data row0 col4\" >0.4663</td>\n",
       "                        <td id=\"T_e9358_row0_col5\" class=\"data row0 col5\" >0.0000</td>\n",
       "                        <td id=\"T_e9358_row0_col6\" class=\"data row0 col6\" >0.0000</td>\n",
       "            </tr>\n",
       "            <tr>\n",
       "                        <th id=\"T_e9358_level0_row1\" class=\"row_heading level0 row1\" >1</th>\n",
       "                        <td id=\"T_e9358_row1_col0\" class=\"data row1 col0\" >0.6133</td>\n",
       "                        <td id=\"T_e9358_row1_col1\" class=\"data row1 col1\" >0.5000</td>\n",
       "                        <td id=\"T_e9358_row1_col2\" class=\"data row1 col2\" >0.3333</td>\n",
       "                        <td id=\"T_e9358_row1_col3\" class=\"data row1 col3\" >0.3762</td>\n",
       "                        <td id=\"T_e9358_row1_col4\" class=\"data row1 col4\" >0.4663</td>\n",
       "                        <td id=\"T_e9358_row1_col5\" class=\"data row1 col5\" >0.0000</td>\n",
       "                        <td id=\"T_e9358_row1_col6\" class=\"data row1 col6\" >0.0000</td>\n",
       "            </tr>\n",
       "            <tr>\n",
       "                        <th id=\"T_e9358_level0_row2\" class=\"row_heading level0 row2\" >2</th>\n",
       "                        <td id=\"T_e9358_row2_col0\" class=\"data row2 col0\" >0.1000</td>\n",
       "                        <td id=\"T_e9358_row2_col1\" class=\"data row2 col1\" >0.5000</td>\n",
       "                        <td id=\"T_e9358_row2_col2\" class=\"data row2 col2\" >0.3333</td>\n",
       "                        <td id=\"T_e9358_row2_col3\" class=\"data row2 col3\" >0.0100</td>\n",
       "                        <td id=\"T_e9358_row2_col4\" class=\"data row2 col4\" >0.0182</td>\n",
       "                        <td id=\"T_e9358_row2_col5\" class=\"data row2 col5\" >0.0000</td>\n",
       "                        <td id=\"T_e9358_row2_col6\" class=\"data row2 col6\" >0.0000</td>\n",
       "            </tr>\n",
       "            <tr>\n",
       "                        <th id=\"T_e9358_level0_row3\" class=\"row_heading level0 row3\" >3</th>\n",
       "                        <td id=\"T_e9358_row3_col0\" class=\"data row3 col0\" >0.1000</td>\n",
       "                        <td id=\"T_e9358_row3_col1\" class=\"data row3 col1\" >0.5000</td>\n",
       "                        <td id=\"T_e9358_row3_col2\" class=\"data row3 col2\" >0.3333</td>\n",
       "                        <td id=\"T_e9358_row3_col3\" class=\"data row3 col3\" >0.0100</td>\n",
       "                        <td id=\"T_e9358_row3_col4\" class=\"data row3 col4\" >0.0182</td>\n",
       "                        <td id=\"T_e9358_row3_col5\" class=\"data row3 col5\" >0.0000</td>\n",
       "                        <td id=\"T_e9358_row3_col6\" class=\"data row3 col6\" >0.0000</td>\n",
       "            </tr>\n",
       "            <tr>\n",
       "                        <th id=\"T_e9358_level0_row4\" class=\"row_heading level0 row4\" >4</th>\n",
       "                        <td id=\"T_e9358_row4_col0\" class=\"data row4 col0\" >0.1000</td>\n",
       "                        <td id=\"T_e9358_row4_col1\" class=\"data row4 col1\" >0.5000</td>\n",
       "                        <td id=\"T_e9358_row4_col2\" class=\"data row4 col2\" >0.3333</td>\n",
       "                        <td id=\"T_e9358_row4_col3\" class=\"data row4 col3\" >0.0100</td>\n",
       "                        <td id=\"T_e9358_row4_col4\" class=\"data row4 col4\" >0.0182</td>\n",
       "                        <td id=\"T_e9358_row4_col5\" class=\"data row4 col5\" >0.0000</td>\n",
       "                        <td id=\"T_e9358_row4_col6\" class=\"data row4 col6\" >0.0000</td>\n",
       "            </tr>\n",
       "            <tr>\n",
       "                        <th id=\"T_e9358_level0_row5\" class=\"row_heading level0 row5\" >5</th>\n",
       "                        <td id=\"T_e9358_row5_col0\" class=\"data row5 col0\" >0.1000</td>\n",
       "                        <td id=\"T_e9358_row5_col1\" class=\"data row5 col1\" >0.5000</td>\n",
       "                        <td id=\"T_e9358_row5_col2\" class=\"data row5 col2\" >0.3333</td>\n",
       "                        <td id=\"T_e9358_row5_col3\" class=\"data row5 col3\" >0.0100</td>\n",
       "                        <td id=\"T_e9358_row5_col4\" class=\"data row5 col4\" >0.0182</td>\n",
       "                        <td id=\"T_e9358_row5_col5\" class=\"data row5 col5\" >0.0000</td>\n",
       "                        <td id=\"T_e9358_row5_col6\" class=\"data row5 col6\" >0.0000</td>\n",
       "            </tr>\n",
       "            <tr>\n",
       "                        <th id=\"T_e9358_level0_row6\" class=\"row_heading level0 row6\" >6</th>\n",
       "                        <td id=\"T_e9358_row6_col0\" class=\"data row6 col0\" >0.1000</td>\n",
       "                        <td id=\"T_e9358_row6_col1\" class=\"data row6 col1\" >0.5000</td>\n",
       "                        <td id=\"T_e9358_row6_col2\" class=\"data row6 col2\" >0.3333</td>\n",
       "                        <td id=\"T_e9358_row6_col3\" class=\"data row6 col3\" >0.0100</td>\n",
       "                        <td id=\"T_e9358_row6_col4\" class=\"data row6 col4\" >0.0182</td>\n",
       "                        <td id=\"T_e9358_row6_col5\" class=\"data row6 col5\" >0.0000</td>\n",
       "                        <td id=\"T_e9358_row6_col6\" class=\"data row6 col6\" >0.0000</td>\n",
       "            </tr>\n",
       "            <tr>\n",
       "                        <th id=\"T_e9358_level0_row7\" class=\"row_heading level0 row7\" >7</th>\n",
       "                        <td id=\"T_e9358_row7_col0\" class=\"data row7 col0\" >0.1000</td>\n",
       "                        <td id=\"T_e9358_row7_col1\" class=\"data row7 col1\" >0.5000</td>\n",
       "                        <td id=\"T_e9358_row7_col2\" class=\"data row7 col2\" >0.3333</td>\n",
       "                        <td id=\"T_e9358_row7_col3\" class=\"data row7 col3\" >0.0100</td>\n",
       "                        <td id=\"T_e9358_row7_col4\" class=\"data row7 col4\" >0.0182</td>\n",
       "                        <td id=\"T_e9358_row7_col5\" class=\"data row7 col5\" >0.0000</td>\n",
       "                        <td id=\"T_e9358_row7_col6\" class=\"data row7 col6\" >0.0000</td>\n",
       "            </tr>\n",
       "            <tr>\n",
       "                        <th id=\"T_e9358_level0_row8\" class=\"row_heading level0 row8\" >8</th>\n",
       "                        <td id=\"T_e9358_row8_col0\" class=\"data row8 col0\" >0.1000</td>\n",
       "                        <td id=\"T_e9358_row8_col1\" class=\"data row8 col1\" >0.5000</td>\n",
       "                        <td id=\"T_e9358_row8_col2\" class=\"data row8 col2\" >0.3333</td>\n",
       "                        <td id=\"T_e9358_row8_col3\" class=\"data row8 col3\" >0.0100</td>\n",
       "                        <td id=\"T_e9358_row8_col4\" class=\"data row8 col4\" >0.0182</td>\n",
       "                        <td id=\"T_e9358_row8_col5\" class=\"data row8 col5\" >0.0000</td>\n",
       "                        <td id=\"T_e9358_row8_col6\" class=\"data row8 col6\" >0.0000</td>\n",
       "            </tr>\n",
       "            <tr>\n",
       "                        <th id=\"T_e9358_level0_row9\" class=\"row_heading level0 row9\" >9</th>\n",
       "                        <td id=\"T_e9358_row9_col0\" class=\"data row9 col0\" >0.1033</td>\n",
       "                        <td id=\"T_e9358_row9_col1\" class=\"data row9 col1\" >0.5000</td>\n",
       "                        <td id=\"T_e9358_row9_col2\" class=\"data row9 col2\" >0.3333</td>\n",
       "                        <td id=\"T_e9358_row9_col3\" class=\"data row9 col3\" >0.0107</td>\n",
       "                        <td id=\"T_e9358_row9_col4\" class=\"data row9 col4\" >0.0194</td>\n",
       "                        <td id=\"T_e9358_row9_col5\" class=\"data row9 col5\" >0.0000</td>\n",
       "                        <td id=\"T_e9358_row9_col6\" class=\"data row9 col6\" >0.0000</td>\n",
       "            </tr>\n",
       "            <tr>\n",
       "                        <th id=\"T_e9358_level0_row10\" class=\"row_heading level0 row10\" >Mean</th>\n",
       "                        <td id=\"T_e9358_row10_col0\" class=\"data row10 col0\" >0.2030</td>\n",
       "                        <td id=\"T_e9358_row10_col1\" class=\"data row10 col1\" >0.5000</td>\n",
       "                        <td id=\"T_e9358_row10_col2\" class=\"data row10 col2\" >0.3333</td>\n",
       "                        <td id=\"T_e9358_row10_col3\" class=\"data row10 col3\" >0.0833</td>\n",
       "                        <td id=\"T_e9358_row10_col4\" class=\"data row10 col4\" >0.1079</td>\n",
       "                        <td id=\"T_e9358_row10_col5\" class=\"data row10 col5\" >0.0000</td>\n",
       "                        <td id=\"T_e9358_row10_col6\" class=\"data row10 col6\" >0.0000</td>\n",
       "            </tr>\n",
       "            <tr>\n",
       "                        <th id=\"T_e9358_level0_row11\" class=\"row_heading level0 row11\" >SD</th>\n",
       "                        <td id=\"T_e9358_row11_col0\" class=\"data row11 col0\" >0.2052</td>\n",
       "                        <td id=\"T_e9358_row11_col1\" class=\"data row11 col1\" >0.0000</td>\n",
       "                        <td id=\"T_e9358_row11_col2\" class=\"data row11 col2\" >0.0000</td>\n",
       "                        <td id=\"T_e9358_row11_col3\" class=\"data row11 col3\" >0.1464</td>\n",
       "                        <td id=\"T_e9358_row11_col4\" class=\"data row11 col4\" >0.1792</td>\n",
       "                        <td id=\"T_e9358_row11_col5\" class=\"data row11 col5\" >0.0000</td>\n",
       "                        <td id=\"T_e9358_row11_col6\" class=\"data row11 col6\" >0.0000</td>\n",
       "            </tr>\n",
       "    </tbody></table>"
      ],
      "text/plain": [
       "<pandas.io.formats.style.Styler at 0x1dc51e19430>"
      ]
     },
     "metadata": {},
     "output_type": "display_data"
    },
    {
     "data": {
      "text/html": [
       "\n",
       "                <audio  controls=\"controls\" autoplay=\"autoplay\">\n",
       "                    <source src=\"https://sound.peal.io/ps/audios/000/000/537/original/woo_vu_luvub_dub_dub.wav\" type=\"audio/wav\" />\n",
       "                    Your browser does not support the audio element.\n",
       "                </audio>\n",
       "              "
      ],
      "text/plain": [
       "<IPython.lib.display.Audio object>"
      ]
     },
     "metadata": {},
     "output_type": "display_data"
    },
    {
     "name": "stdout",
     "output_type": "stream",
     "text": [
      "Transformation Pipeline and Model Succesfully Saved\n"
     ]
    },
    {
     "data": {
      "text/plain": [
       "(Pipeline(memory=None,\n",
       "          steps=[('dtypes',\n",
       "                  DataTypes_Auto_infer(categorical_features=[],\n",
       "                                       display_types=False, features_todrop=[],\n",
       "                                       id_columns=[],\n",
       "                                       ml_usecase='classification',\n",
       "                                       numerical_features=[], target='target',\n",
       "                                       time_features=[])),\n",
       "                 ('imputer',\n",
       "                  Simple_Imputer(categorical_strategy='not_available',\n",
       "                                 fill_value_categorical=None,\n",
       "                                 fill_value_numerical=None,\n",
       "                                 numeric_stra...\n",
       "                                                                             max_features='log2',\n",
       "                                                                             max_leaf_nodes=None,\n",
       "                                                                             max_samples=None,\n",
       "                                                                             min_impurity_decrease=0.3,\n",
       "                                                                             min_impurity_split=None,\n",
       "                                                                             min_samples_leaf=3,\n",
       "                                                                             min_samples_split=7,\n",
       "                                                                             min_weight_fraction_leaf=0.0,\n",
       "                                                                             n_estimators=10,\n",
       "                                                                             n_jobs=-1,\n",
       "                                                                             oob_score=False,\n",
       "                                                                             random_state=5481,\n",
       "                                                                             verbose=0,\n",
       "                                                                             warm_start=False),\n",
       "                                         cv=StratifiedKFold(n_splits=10, random_state=None, shuffle=False),\n",
       "                                         method='sigmoid')]],\n",
       "          verbose=False),\n",
       " 'calibrated_tuned_model.pkl')"
      ]
     },
     "execution_count": 22,
     "metadata": {},
     "output_type": "execute_result"
    },
    {
     "data": {
      "text/html": [
       "\n",
       "                <audio  controls=\"controls\" autoplay=\"autoplay\">\n",
       "                    <source src=\"https://sound.peal.io/ps/audios/000/000/537/original/woo_vu_luvub_dub_dub.wav\" type=\"audio/wav\" />\n",
       "                    Your browser does not support the audio element.\n",
       "                </audio>\n",
       "              "
      ],
      "text/plain": [
       "<IPython.lib.display.Audio object>"
      ]
     },
     "metadata": {},
     "output_type": "display_data"
    }
   ],
   "source": [
    "calibrated_tuned_model = calibrate_model(tuned_model)\n",
    "allDone()\n",
    "logs = get_logs(save=True)\n",
    "\n",
    "save_model(calibrated_tuned_model, 'calibrated_tuned_model')\n",
    "logs = get_logs(save=True)\n",
    "allDone()"
   ]
  },
  {
   "cell_type": "code",
   "execution_count": 23,
   "id": "6e38a914",
   "metadata": {
    "ExecuteTime": {
     "end_time": "2021-06-09T04:21:42.507914Z",
     "start_time": "2021-06-09T04:21:23.861471Z"
    }
   },
   "outputs": [
    {
     "data": {
      "text/html": [
       "<style  type=\"text/css\" >\n",
       "#T_1063b_row10_col0,#T_1063b_row10_col1,#T_1063b_row10_col2,#T_1063b_row10_col3,#T_1063b_row10_col4,#T_1063b_row10_col5,#T_1063b_row10_col6{\n",
       "            background:  yellow;\n",
       "        }</style><table id=\"T_1063b_\" ><thead>    <tr>        <th class=\"blank level0\" ></th>        <th class=\"col_heading level0 col0\" >Accuracy</th>        <th class=\"col_heading level0 col1\" >AUC</th>        <th class=\"col_heading level0 col2\" >Recall</th>        <th class=\"col_heading level0 col3\" >Prec.</th>        <th class=\"col_heading level0 col4\" >F1</th>        <th class=\"col_heading level0 col5\" >Kappa</th>        <th class=\"col_heading level0 col6\" >MCC</th>    </tr></thead><tbody>\n",
       "                <tr>\n",
       "                        <th id=\"T_1063b_level0_row0\" class=\"row_heading level0 row0\" >0</th>\n",
       "                        <td id=\"T_1063b_row0_col0\" class=\"data row0 col0\" >0.2867</td>\n",
       "                        <td id=\"T_1063b_row0_col1\" class=\"data row0 col1\" >0.5000</td>\n",
       "                        <td id=\"T_1063b_row0_col2\" class=\"data row0 col2\" >0.3333</td>\n",
       "                        <td id=\"T_1063b_row0_col3\" class=\"data row0 col3\" >0.0822</td>\n",
       "                        <td id=\"T_1063b_row0_col4\" class=\"data row0 col4\" >0.1277</td>\n",
       "                        <td id=\"T_1063b_row0_col5\" class=\"data row0 col5\" >0.0000</td>\n",
       "                        <td id=\"T_1063b_row0_col6\" class=\"data row0 col6\" >0.0000</td>\n",
       "            </tr>\n",
       "            <tr>\n",
       "                        <th id=\"T_1063b_level0_row1\" class=\"row_heading level0 row1\" >1</th>\n",
       "                        <td id=\"T_1063b_row1_col0\" class=\"data row1 col0\" >0.1000</td>\n",
       "                        <td id=\"T_1063b_row1_col1\" class=\"data row1 col1\" >0.5000</td>\n",
       "                        <td id=\"T_1063b_row1_col2\" class=\"data row1 col2\" >0.3333</td>\n",
       "                        <td id=\"T_1063b_row1_col3\" class=\"data row1 col3\" >0.0100</td>\n",
       "                        <td id=\"T_1063b_row1_col4\" class=\"data row1 col4\" >0.0182</td>\n",
       "                        <td id=\"T_1063b_row1_col5\" class=\"data row1 col5\" >0.0000</td>\n",
       "                        <td id=\"T_1063b_row1_col6\" class=\"data row1 col6\" >0.0000</td>\n",
       "            </tr>\n",
       "            <tr>\n",
       "                        <th id=\"T_1063b_level0_row2\" class=\"row_heading level0 row2\" >2</th>\n",
       "                        <td id=\"T_1063b_row2_col0\" class=\"data row2 col0\" >0.1000</td>\n",
       "                        <td id=\"T_1063b_row2_col1\" class=\"data row2 col1\" >0.5000</td>\n",
       "                        <td id=\"T_1063b_row2_col2\" class=\"data row2 col2\" >0.3333</td>\n",
       "                        <td id=\"T_1063b_row2_col3\" class=\"data row2 col3\" >0.0100</td>\n",
       "                        <td id=\"T_1063b_row2_col4\" class=\"data row2 col4\" >0.0182</td>\n",
       "                        <td id=\"T_1063b_row2_col5\" class=\"data row2 col5\" >0.0000</td>\n",
       "                        <td id=\"T_1063b_row2_col6\" class=\"data row2 col6\" >0.0000</td>\n",
       "            </tr>\n",
       "            <tr>\n",
       "                        <th id=\"T_1063b_level0_row3\" class=\"row_heading level0 row3\" >3</th>\n",
       "                        <td id=\"T_1063b_row3_col0\" class=\"data row3 col0\" >0.1000</td>\n",
       "                        <td id=\"T_1063b_row3_col1\" class=\"data row3 col1\" >0.5000</td>\n",
       "                        <td id=\"T_1063b_row3_col2\" class=\"data row3 col2\" >0.3333</td>\n",
       "                        <td id=\"T_1063b_row3_col3\" class=\"data row3 col3\" >0.0100</td>\n",
       "                        <td id=\"T_1063b_row3_col4\" class=\"data row3 col4\" >0.0182</td>\n",
       "                        <td id=\"T_1063b_row3_col5\" class=\"data row3 col5\" >0.0000</td>\n",
       "                        <td id=\"T_1063b_row3_col6\" class=\"data row3 col6\" >0.0000</td>\n",
       "            </tr>\n",
       "            <tr>\n",
       "                        <th id=\"T_1063b_level0_row4\" class=\"row_heading level0 row4\" >4</th>\n",
       "                        <td id=\"T_1063b_row4_col0\" class=\"data row4 col0\" >0.1000</td>\n",
       "                        <td id=\"T_1063b_row4_col1\" class=\"data row4 col1\" >0.5000</td>\n",
       "                        <td id=\"T_1063b_row4_col2\" class=\"data row4 col2\" >0.3333</td>\n",
       "                        <td id=\"T_1063b_row4_col3\" class=\"data row4 col3\" >0.0100</td>\n",
       "                        <td id=\"T_1063b_row4_col4\" class=\"data row4 col4\" >0.0182</td>\n",
       "                        <td id=\"T_1063b_row4_col5\" class=\"data row4 col5\" >0.0000</td>\n",
       "                        <td id=\"T_1063b_row4_col6\" class=\"data row4 col6\" >0.0000</td>\n",
       "            </tr>\n",
       "            <tr>\n",
       "                        <th id=\"T_1063b_level0_row5\" class=\"row_heading level0 row5\" >5</th>\n",
       "                        <td id=\"T_1063b_row5_col0\" class=\"data row5 col0\" >0.2900</td>\n",
       "                        <td id=\"T_1063b_row5_col1\" class=\"data row5 col1\" >0.5000</td>\n",
       "                        <td id=\"T_1063b_row5_col2\" class=\"data row5 col2\" >0.3333</td>\n",
       "                        <td id=\"T_1063b_row5_col3\" class=\"data row5 col3\" >0.0841</td>\n",
       "                        <td id=\"T_1063b_row5_col4\" class=\"data row5 col4\" >0.1304</td>\n",
       "                        <td id=\"T_1063b_row5_col5\" class=\"data row5 col5\" >0.0000</td>\n",
       "                        <td id=\"T_1063b_row5_col6\" class=\"data row5 col6\" >0.0000</td>\n",
       "            </tr>\n",
       "            <tr>\n",
       "                        <th id=\"T_1063b_level0_row6\" class=\"row_heading level0 row6\" >6</th>\n",
       "                        <td id=\"T_1063b_row6_col0\" class=\"data row6 col0\" >0.2900</td>\n",
       "                        <td id=\"T_1063b_row6_col1\" class=\"data row6 col1\" >0.5000</td>\n",
       "                        <td id=\"T_1063b_row6_col2\" class=\"data row6 col2\" >0.3333</td>\n",
       "                        <td id=\"T_1063b_row6_col3\" class=\"data row6 col3\" >0.0841</td>\n",
       "                        <td id=\"T_1063b_row6_col4\" class=\"data row6 col4\" >0.1304</td>\n",
       "                        <td id=\"T_1063b_row6_col5\" class=\"data row6 col5\" >0.0000</td>\n",
       "                        <td id=\"T_1063b_row6_col6\" class=\"data row6 col6\" >0.0000</td>\n",
       "            </tr>\n",
       "            <tr>\n",
       "                        <th id=\"T_1063b_level0_row7\" class=\"row_heading level0 row7\" >7</th>\n",
       "                        <td id=\"T_1063b_row7_col0\" class=\"data row7 col0\" >0.2900</td>\n",
       "                        <td id=\"T_1063b_row7_col1\" class=\"data row7 col1\" >0.5000</td>\n",
       "                        <td id=\"T_1063b_row7_col2\" class=\"data row7 col2\" >0.3333</td>\n",
       "                        <td id=\"T_1063b_row7_col3\" class=\"data row7 col3\" >0.0841</td>\n",
       "                        <td id=\"T_1063b_row7_col4\" class=\"data row7 col4\" >0.1304</td>\n",
       "                        <td id=\"T_1063b_row7_col5\" class=\"data row7 col5\" >0.0000</td>\n",
       "                        <td id=\"T_1063b_row7_col6\" class=\"data row7 col6\" >0.0000</td>\n",
       "            </tr>\n",
       "            <tr>\n",
       "                        <th id=\"T_1063b_level0_row8\" class=\"row_heading level0 row8\" >8</th>\n",
       "                        <td id=\"T_1063b_row8_col0\" class=\"data row8 col0\" >0.2900</td>\n",
       "                        <td id=\"T_1063b_row8_col1\" class=\"data row8 col1\" >0.5000</td>\n",
       "                        <td id=\"T_1063b_row8_col2\" class=\"data row8 col2\" >0.3333</td>\n",
       "                        <td id=\"T_1063b_row8_col3\" class=\"data row8 col3\" >0.0841</td>\n",
       "                        <td id=\"T_1063b_row8_col4\" class=\"data row8 col4\" >0.1304</td>\n",
       "                        <td id=\"T_1063b_row8_col5\" class=\"data row8 col5\" >0.0000</td>\n",
       "                        <td id=\"T_1063b_row8_col6\" class=\"data row8 col6\" >0.0000</td>\n",
       "            </tr>\n",
       "            <tr>\n",
       "                        <th id=\"T_1063b_level0_row9\" class=\"row_heading level0 row9\" >9</th>\n",
       "                        <td id=\"T_1063b_row9_col0\" class=\"data row9 col0\" >0.2867</td>\n",
       "                        <td id=\"T_1063b_row9_col1\" class=\"data row9 col1\" >0.5000</td>\n",
       "                        <td id=\"T_1063b_row9_col2\" class=\"data row9 col2\" >0.3333</td>\n",
       "                        <td id=\"T_1063b_row9_col3\" class=\"data row9 col3\" >0.0822</td>\n",
       "                        <td id=\"T_1063b_row9_col4\" class=\"data row9 col4\" >0.1277</td>\n",
       "                        <td id=\"T_1063b_row9_col5\" class=\"data row9 col5\" >0.0000</td>\n",
       "                        <td id=\"T_1063b_row9_col6\" class=\"data row9 col6\" >0.0000</td>\n",
       "            </tr>\n",
       "            <tr>\n",
       "                        <th id=\"T_1063b_level0_row10\" class=\"row_heading level0 row10\" >Mean</th>\n",
       "                        <td id=\"T_1063b_row10_col0\" class=\"data row10 col0\" >0.2133</td>\n",
       "                        <td id=\"T_1063b_row10_col1\" class=\"data row10 col1\" >0.5000</td>\n",
       "                        <td id=\"T_1063b_row10_col2\" class=\"data row10 col2\" >0.3333</td>\n",
       "                        <td id=\"T_1063b_row10_col3\" class=\"data row10 col3\" >0.0541</td>\n",
       "                        <td id=\"T_1063b_row10_col4\" class=\"data row10 col4\" >0.0850</td>\n",
       "                        <td id=\"T_1063b_row10_col5\" class=\"data row10 col5\" >0.0000</td>\n",
       "                        <td id=\"T_1063b_row10_col6\" class=\"data row10 col6\" >0.0000</td>\n",
       "            </tr>\n",
       "            <tr>\n",
       "                        <th id=\"T_1063b_level0_row11\" class=\"row_heading level0 row11\" >SD</th>\n",
       "                        <td id=\"T_1063b_row11_col0\" class=\"data row11 col0\" >0.0925</td>\n",
       "                        <td id=\"T_1063b_row11_col1\" class=\"data row11 col1\" >0.0000</td>\n",
       "                        <td id=\"T_1063b_row11_col2\" class=\"data row11 col2\" >0.0000</td>\n",
       "                        <td id=\"T_1063b_row11_col3\" class=\"data row11 col3\" >0.0360</td>\n",
       "                        <td id=\"T_1063b_row11_col4\" class=\"data row11 col4\" >0.0545</td>\n",
       "                        <td id=\"T_1063b_row11_col5\" class=\"data row11 col5\" >0.0000</td>\n",
       "                        <td id=\"T_1063b_row11_col6\" class=\"data row11 col6\" >0.0000</td>\n",
       "            </tr>\n",
       "    </tbody></table>"
      ],
      "text/plain": [
       "<pandas.io.formats.style.Styler at 0x1dc2ce680d0>"
      ]
     },
     "metadata": {},
     "output_type": "display_data"
    },
    {
     "data": {
      "text/html": [
       "\n",
       "                <audio  controls=\"controls\" autoplay=\"autoplay\">\n",
       "                    <source src=\"https://sound.peal.io/ps/audios/000/000/537/original/woo_vu_luvub_dub_dub.wav\" type=\"audio/wav\" />\n",
       "                    Your browser does not support the audio element.\n",
       "                </audio>\n",
       "              "
      ],
      "text/plain": [
       "<IPython.lib.display.Audio object>"
      ]
     },
     "metadata": {},
     "output_type": "display_data"
    },
    {
     "name": "stdout",
     "output_type": "stream",
     "text": [
      "Transformation Pipeline and Model Succesfully Saved\n"
     ]
    },
    {
     "data": {
      "text/plain": [
       "(Pipeline(memory=None,\n",
       "          steps=[('dtypes',\n",
       "                  DataTypes_Auto_infer(categorical_features=[],\n",
       "                                       display_types=False, features_todrop=[],\n",
       "                                       id_columns=[],\n",
       "                                       ml_usecase='classification',\n",
       "                                       numerical_features=[], target='target',\n",
       "                                       time_features=[])),\n",
       "                 ('imputer',\n",
       "                  Simple_Imputer(categorical_strategy='not_available',\n",
       "                                 fill_value_categorical=None,\n",
       "                                 fill_value_numerical=None,\n",
       "                                 numeric_stra...\n",
       "                                                                             max_features='log2',\n",
       "                                                                             max_leaf_nodes=None,\n",
       "                                                                             max_samples=None,\n",
       "                                                                             min_impurity_decrease=0.3,\n",
       "                                                                             min_impurity_split=None,\n",
       "                                                                             min_samples_leaf=3,\n",
       "                                                                             min_samples_split=7,\n",
       "                                                                             min_weight_fraction_leaf=0.0,\n",
       "                                                                             n_estimators=10,\n",
       "                                                                             n_jobs=-1,\n",
       "                                                                             oob_score=False,\n",
       "                                                                             random_state=5481,\n",
       "                                                                             verbose=0,\n",
       "                                                                             warm_start=False),\n",
       "                                         cv=StratifiedKFold(n_splits=10, random_state=None, shuffle=False),\n",
       "                                         method='sigmoid')]],\n",
       "          verbose=False),\n",
       " 'calibrated_tuned_model.pkl')"
      ]
     },
     "execution_count": 23,
     "metadata": {},
     "output_type": "execute_result"
    },
    {
     "data": {
      "text/html": [
       "\n",
       "                <audio  controls=\"controls\" autoplay=\"autoplay\">\n",
       "                    <source src=\"https://sound.peal.io/ps/audios/000/000/537/original/woo_vu_luvub_dub_dub.wav\" type=\"audio/wav\" />\n",
       "                    Your browser does not support the audio element.\n",
       "                </audio>\n",
       "              "
      ],
      "text/plain": [
       "<IPython.lib.display.Audio object>"
      ]
     },
     "metadata": {},
     "output_type": "display_data"
    }
   ],
   "source": [
    "calibrated_bagged_tuned_model = calibrate_model(bagged_tuned_model)\n",
    "allDone()\n",
    "logs = get_logs(save=True)\n",
    "\n",
    "save_model(calibrated_tuned_model, 'calibrated_tuned_model')\n",
    "logs = get_logs(save=True)\n",
    "allDone()\n",
    "\n"
   ]
  },
  {
   "cell_type": "code",
   "execution_count": 26,
   "id": "deb2f468",
   "metadata": {
    "ExecuteTime": {
     "end_time": "2021-06-09T04:22:48.329902Z",
     "start_time": "2021-06-09T04:22:46.540339Z"
    }
   },
   "outputs": [
    {
     "data": {
      "image/png": "[encoded data removed]",
      "text/plain": [
       "<Figure size 576x396 with 1 Axes>"
      ]
     },
     "metadata": {},
     "output_type": "display_data"
    }
   ],
   "source": [
    "plot_model(calibrated_bagged_tuned_model, plot='error')"
   ]
  },
  {
   "cell_type": "code",
   "execution_count": 27,
   "id": "3242e461",
   "metadata": {
    "ExecuteTime": {
     "end_time": "2021-06-09T04:23:15.957626Z",
     "start_time": "2021-06-09T04:23:14.188818Z"
    }
   },
   "outputs": [
    {
     "data": {
      "image/png": "[encoded data removed]",
      "text/plain": [
       "<Figure size 576x396 with 1 Axes>"
      ]
     },
     "metadata": {},
     "output_type": "display_data"
    }
   ],
   "source": [
    "plot_model(calibrated_bagged_tuned_model)"
   ]
  },
  {
   "cell_type": "code",
   "execution_count": null,
   "id": "50f17a70",
   "metadata": {},
   "outputs": [],
   "source": []
  },
  {
   "cell_type": "code",
   "execution_count": null,
   "id": "77651e75",
   "metadata": {},
   "outputs": [],
   "source": []
  },
  {
   "cell_type": "code",
   "execution_count": 30,
   "id": "f144f2ee",
   "metadata": {
    "ExecuteTime": {
     "end_time": "2021-06-09T04:24:32.363511Z",
     "start_time": "2021-06-09T04:24:29.779351Z"
    }
   },
   "outputs": [
    {
     "data": {
      "text/html": [
       "<style  type=\"text/css\" >\n",
       "</style><table id=\"T_441de_\" ><thead>    <tr>        <th class=\"blank level0\" ></th>        <th class=\"col_heading level0 col0\" >Model</th>        <th class=\"col_heading level0 col1\" >Accuracy</th>        <th class=\"col_heading level0 col2\" >AUC</th>        <th class=\"col_heading level0 col3\" >Recall</th>        <th class=\"col_heading level0 col4\" >Prec.</th>        <th class=\"col_heading level0 col5\" >F1</th>        <th class=\"col_heading level0 col6\" >Kappa</th>        <th class=\"col_heading level0 col7\" >MCC</th>    </tr></thead><tbody>\n",
       "                <tr>\n",
       "                        <th id=\"T_441de_level0_row0\" class=\"row_heading level0 row0\" >0</th>\n",
       "                        <td id=\"T_441de_row0_col0\" class=\"data row0 col0\" >Extra Trees Classifier</td>\n",
       "                        <td id=\"T_441de_row0_col1\" class=\"data row0 col1\" >0.0999</td>\n",
       "                        <td id=\"T_441de_row0_col2\" class=\"data row0 col2\" >0</td>\n",
       "                        <td id=\"T_441de_row0_col3\" class=\"data row0 col3\" >0.3333</td>\n",
       "                        <td id=\"T_441de_row0_col4\" class=\"data row0 col4\" >0.0100</td>\n",
       "                        <td id=\"T_441de_row0_col5\" class=\"data row0 col5\" >0.0181</td>\n",
       "                        <td id=\"T_441de_row0_col6\" class=\"data row0 col6\" >0.0000</td>\n",
       "                        <td id=\"T_441de_row0_col7\" class=\"data row0 col7\" >0.0000</td>\n",
       "            </tr>\n",
       "    </tbody></table>"
      ],
      "text/plain": [
       "<pandas.io.formats.style.Styler at 0x1dc52783850>"
      ]
     },
     "metadata": {},
     "output_type": "display_data"
    },
    {
     "data": {
      "text/html": [
       "\n",
       "                <audio  controls=\"controls\" autoplay=\"autoplay\">\n",
       "                    <source src=\"https://sound.peal.io/ps/audios/000/000/537/original/woo_vu_luvub_dub_dub.wav\" type=\"audio/wav\" />\n",
       "                    Your browser does not support the audio element.\n",
       "                </audio>\n",
       "              "
      ],
      "text/plain": [
       "<IPython.lib.display.Audio object>"
      ]
     },
     "metadata": {},
     "output_type": "display_data"
    },
    {
     "name": "stdout",
     "output_type": "stream",
     "text": [
      "Transformation Pipeline and Model Succesfully Saved\n"
     ]
    },
    {
     "data": {
      "text/plain": [
       "(Pipeline(memory=None,\n",
       "          steps=[('dtypes',\n",
       "                  DataTypes_Auto_infer(categorical_features=[],\n",
       "                                       display_types=False, features_todrop=[],\n",
       "                                       id_columns=[],\n",
       "                                       ml_usecase='classification',\n",
       "                                       numerical_features=[], target='target',\n",
       "                                       time_features=[])),\n",
       "                 ('imputer',\n",
       "                  Simple_Imputer(categorical_strategy='not_available',\n",
       "                                 fill_value_categorical=None,\n",
       "                                 fill_value_numerical=None,\n",
       "                                 numeric_stra...\n",
       " 2     1.698643 -0.656308 -0.373629      2      1  0.3333\n",
       " 3    -1.704676 -0.568311  1.551795      2      1  0.3333\n",
       " 4     0.431833 -0.440817 -0.363101      2      1  0.3333\n",
       " ...        ...       ...       ...    ...    ...     ...\n",
       " 6995  1.223096 -1.455394 -0.211803      0      1  0.3333\n",
       " 6996  0.783186 -0.490485  2.440169      0      1  0.3333\n",
       " 6997 -0.045938  2.206574 -1.265314      0      1  0.3333\n",
       " 6998 -0.272513  0.555872  0.638850      0      1  0.3333\n",
       " 6999 -1.587203 -1.108443  1.151125      0      1  0.3333\n",
       " \n",
       " [7000 rows x 6 columns]]],\n",
       "          verbose=False),\n",
       " 'pred_holdout_calibrated_bagged_tuned_model.pkl')"
      ]
     },
     "execution_count": 30,
     "metadata": {},
     "output_type": "execute_result"
    },
    {
     "data": {
      "text/html": [
       "\n",
       "                <audio  controls=\"controls\" autoplay=\"autoplay\">\n",
       "                    <source src=\"https://sound.peal.io/ps/audios/000/000/537/original/woo_vu_luvub_dub_dub.wav\" type=\"audio/wav\" />\n",
       "                    Your browser does not support the audio element.\n",
       "                </audio>\n",
       "              "
      ],
      "text/plain": [
       "<IPython.lib.display.Audio object>"
      ]
     },
     "metadata": {},
     "output_type": "display_data"
    }
   ],
   "source": [
    "pred_holdout_calibrated_bagged_tuned_model = predict_model(calibrated_bagged_tuned_model)  #, probability_threshold = 0.0754)\n",
    "allDone()\n",
    "\n",
    "save_model(pred_holdout_calibrated_bagged_tuned_model, 'pred_holdout_calibrated_bagged_tuned_model')\n",
    "logs = get_logs(save=True)\n",
    "allDone()"
   ]
  },
  {
   "cell_type": "code",
   "execution_count": null,
   "id": "dd4873c5",
   "metadata": {},
   "outputs": [],
   "source": []
  },
  {
   "cell_type": "code",
   "execution_count": 33,
   "id": "c3801b41",
   "metadata": {
    "ExecuteTime": {
     "end_time": "2021-06-09T04:26:14.580498Z",
     "start_time": "2021-06-09T04:26:14.565510Z"
    }
   },
   "outputs": [
    {
     "name": "stdout",
     "output_type": "stream",
     "text": [
      "Data for Modeling: (9500, 4)\n",
      "Unseen Data For Predictions (500, 4)\n"
     ]
    },
    {
     "data": {
      "text/html": [
       "<div>\n",
       "<style scoped>\n",
       "    .dataframe tbody tr th:only-of-type {\n",
       "        vertical-align: middle;\n",
       "    }\n",
       "\n",
       "    .dataframe tbody tr th {\n",
       "        vertical-align: top;\n",
       "    }\n",
       "\n",
       "    .dataframe thead th {\n",
       "        text-align: right;\n",
       "    }\n",
       "</style>\n",
       "<table border=\"1\" class=\"dataframe\">\n",
       "  <thead>\n",
       "    <tr style=\"text-align: right;\">\n",
       "      <th></th>\n",
       "      <th>x1</th>\n",
       "      <th>x2</th>\n",
       "      <th>x3</th>\n",
       "      <th>target</th>\n",
       "    </tr>\n",
       "  </thead>\n",
       "  <tbody>\n",
       "    <tr>\n",
       "      <th>0</th>\n",
       "      <td>34.86</td>\n",
       "      <td>7.86</td>\n",
       "      <td>-47.64</td>\n",
       "      <td>1</td>\n",
       "    </tr>\n",
       "    <tr>\n",
       "      <th>1</th>\n",
       "      <td>15.13</td>\n",
       "      <td>9.67</td>\n",
       "      <td>-37.22</td>\n",
       "      <td>1</td>\n",
       "    </tr>\n",
       "    <tr>\n",
       "      <th>2</th>\n",
       "      <td>18.28</td>\n",
       "      <td>3.85</td>\n",
       "      <td>-43.69</td>\n",
       "      <td>1</td>\n",
       "    </tr>\n",
       "    <tr>\n",
       "      <th>3</th>\n",
       "      <td>5.50</td>\n",
       "      <td>24.23</td>\n",
       "      <td>-45.81</td>\n",
       "      <td>1</td>\n",
       "    </tr>\n",
       "    <tr>\n",
       "      <th>4</th>\n",
       "      <td>76.97</td>\n",
       "      <td>8.30</td>\n",
       "      <td>-25.64</td>\n",
       "      <td>1</td>\n",
       "    </tr>\n",
       "    <tr>\n",
       "      <th>...</th>\n",
       "      <td>...</td>\n",
       "      <td>...</td>\n",
       "      <td>...</td>\n",
       "      <td>...</td>\n",
       "    </tr>\n",
       "    <tr>\n",
       "      <th>495</th>\n",
       "      <td>9.52</td>\n",
       "      <td>3.59</td>\n",
       "      <td>-19.32</td>\n",
       "      <td>2</td>\n",
       "    </tr>\n",
       "    <tr>\n",
       "      <th>496</th>\n",
       "      <td>24.00</td>\n",
       "      <td>5.25</td>\n",
       "      <td>-22.56</td>\n",
       "      <td>2</td>\n",
       "    </tr>\n",
       "    <tr>\n",
       "      <th>497</th>\n",
       "      <td>85.92</td>\n",
       "      <td>2.89</td>\n",
       "      <td>-4.30</td>\n",
       "      <td>2</td>\n",
       "    </tr>\n",
       "    <tr>\n",
       "      <th>498</th>\n",
       "      <td>22.87</td>\n",
       "      <td>4.84</td>\n",
       "      <td>-9.08</td>\n",
       "      <td>2</td>\n",
       "    </tr>\n",
       "    <tr>\n",
       "      <th>499</th>\n",
       "      <td>49.80</td>\n",
       "      <td>12.34</td>\n",
       "      <td>6.84</td>\n",
       "      <td>2</td>\n",
       "    </tr>\n",
       "  </tbody>\n",
       "</table>\n",
       "<p>500 rows × 4 columns</p>\n",
       "</div>"
      ],
      "text/plain": [
       "        x1     x2     x3  target\n",
       "0    34.86   7.86 -47.64       1\n",
       "1    15.13   9.67 -37.22       1\n",
       "2    18.28   3.85 -43.69       1\n",
       "3     5.50  24.23 -45.81       1\n",
       "4    76.97   8.30 -25.64       1\n",
       "..     ...    ...    ...     ...\n",
       "495   9.52   3.59 -19.32       2\n",
       "496  24.00   5.25 -22.56       2\n",
       "497  85.92   2.89  -4.30       2\n",
       "498  22.87   4.84  -9.08       2\n",
       "499  49.80  12.34   6.84       2\n",
       "\n",
       "[500 rows x 4 columns]"
      ]
     },
     "execution_count": 33,
     "metadata": {},
     "output_type": "execute_result"
    }
   ],
   "source": [
    "#%% Predict on your Unseen Data\n",
    "data = albert.sample(frac=0.95, random_state=786)\n",
    "data_unseen = albert.drop(data.index)\n",
    "\n",
    "data.reset_index(inplace=True, drop=True)\n",
    "data_unseen.reset_index(inplace=True, drop=True)\n",
    "\n",
    "print('Data for Modeling: ' + str(data.shape))\n",
    "print('Unseen Data For Predictions ' + str(data_unseen.shape))\n",
    "data_unseen"
   ]
  },
  {
   "cell_type": "code",
   "execution_count": 34,
   "id": "0cd8a9ce",
   "metadata": {
    "ExecuteTime": {
     "end_time": "2021-06-09T04:27:44.144270Z",
     "start_time": "2021-06-09T04:27:43.171538Z"
    }
   },
   "outputs": [],
   "source": [
    "predictions = predict_model(calibrated_bagged_tuned_model, data = data_unseen)"
   ]
  },
  {
   "cell_type": "code",
   "execution_count": 35,
   "id": "421ffdaf",
   "metadata": {
    "ExecuteTime": {
     "end_time": "2021-06-09T04:28:06.879936Z",
     "start_time": "2021-06-09T04:28:06.866946Z"
    }
   },
   "outputs": [
    {
     "data": {
      "text/html": [
       "<div>\n",
       "<style scoped>\n",
       "    .dataframe tbody tr th:only-of-type {\n",
       "        vertical-align: middle;\n",
       "    }\n",
       "\n",
       "    .dataframe tbody tr th {\n",
       "        vertical-align: top;\n",
       "    }\n",
       "\n",
       "    .dataframe thead th {\n",
       "        text-align: right;\n",
       "    }\n",
       "</style>\n",
       "<table border=\"1\" class=\"dataframe\">\n",
       "  <thead>\n",
       "    <tr style=\"text-align: right;\">\n",
       "      <th></th>\n",
       "      <th>x1</th>\n",
       "      <th>x2</th>\n",
       "      <th>x3</th>\n",
       "      <th>target</th>\n",
       "      <th>Label</th>\n",
       "      <th>Score</th>\n",
       "    </tr>\n",
       "  </thead>\n",
       "  <tbody>\n",
       "    <tr>\n",
       "      <th>0</th>\n",
       "      <td>34.86</td>\n",
       "      <td>7.86</td>\n",
       "      <td>-47.64</td>\n",
       "      <td>1</td>\n",
       "      <td>1</td>\n",
       "      <td>0.3333</td>\n",
       "    </tr>\n",
       "    <tr>\n",
       "      <th>1</th>\n",
       "      <td>15.13</td>\n",
       "      <td>9.67</td>\n",
       "      <td>-37.22</td>\n",
       "      <td>1</td>\n",
       "      <td>1</td>\n",
       "      <td>0.3333</td>\n",
       "    </tr>\n",
       "    <tr>\n",
       "      <th>2</th>\n",
       "      <td>18.28</td>\n",
       "      <td>3.85</td>\n",
       "      <td>-43.69</td>\n",
       "      <td>1</td>\n",
       "      <td>1</td>\n",
       "      <td>0.3333</td>\n",
       "    </tr>\n",
       "    <tr>\n",
       "      <th>3</th>\n",
       "      <td>5.50</td>\n",
       "      <td>24.23</td>\n",
       "      <td>-45.81</td>\n",
       "      <td>1</td>\n",
       "      <td>1</td>\n",
       "      <td>0.3333</td>\n",
       "    </tr>\n",
       "    <tr>\n",
       "      <th>4</th>\n",
       "      <td>76.97</td>\n",
       "      <td>8.30</td>\n",
       "      <td>-25.64</td>\n",
       "      <td>1</td>\n",
       "      <td>1</td>\n",
       "      <td>0.3333</td>\n",
       "    </tr>\n",
       "    <tr>\n",
       "      <th>...</th>\n",
       "      <td>...</td>\n",
       "      <td>...</td>\n",
       "      <td>...</td>\n",
       "      <td>...</td>\n",
       "      <td>...</td>\n",
       "      <td>...</td>\n",
       "    </tr>\n",
       "    <tr>\n",
       "      <th>495</th>\n",
       "      <td>9.52</td>\n",
       "      <td>3.59</td>\n",
       "      <td>-19.32</td>\n",
       "      <td>2</td>\n",
       "      <td>1</td>\n",
       "      <td>0.3333</td>\n",
       "    </tr>\n",
       "    <tr>\n",
       "      <th>496</th>\n",
       "      <td>24.00</td>\n",
       "      <td>5.25</td>\n",
       "      <td>-22.56</td>\n",
       "      <td>2</td>\n",
       "      <td>1</td>\n",
       "      <td>0.3333</td>\n",
       "    </tr>\n",
       "    <tr>\n",
       "      <th>497</th>\n",
       "      <td>85.92</td>\n",
       "      <td>2.89</td>\n",
       "      <td>-4.30</td>\n",
       "      <td>2</td>\n",
       "      <td>1</td>\n",
       "      <td>0.3333</td>\n",
       "    </tr>\n",
       "    <tr>\n",
       "      <th>498</th>\n",
       "      <td>22.87</td>\n",
       "      <td>4.84</td>\n",
       "      <td>-9.08</td>\n",
       "      <td>2</td>\n",
       "      <td>1</td>\n",
       "      <td>0.3333</td>\n",
       "    </tr>\n",
       "    <tr>\n",
       "      <th>499</th>\n",
       "      <td>49.80</td>\n",
       "      <td>12.34</td>\n",
       "      <td>6.84</td>\n",
       "      <td>2</td>\n",
       "      <td>1</td>\n",
       "      <td>0.3333</td>\n",
       "    </tr>\n",
       "  </tbody>\n",
       "</table>\n",
       "<p>500 rows × 6 columns</p>\n",
       "</div>"
      ],
      "text/plain": [
       "        x1     x2     x3  target  Label   Score\n",
       "0    34.86   7.86 -47.64       1      1  0.3333\n",
       "1    15.13   9.67 -37.22       1      1  0.3333\n",
       "2    18.28   3.85 -43.69       1      1  0.3333\n",
       "3     5.50  24.23 -45.81       1      1  0.3333\n",
       "4    76.97   8.30 -25.64       1      1  0.3333\n",
       "..     ...    ...    ...     ...    ...     ...\n",
       "495   9.52   3.59 -19.32       2      1  0.3333\n",
       "496  24.00   5.25 -22.56       2      1  0.3333\n",
       "497  85.92   2.89  -4.30       2      1  0.3333\n",
       "498  22.87   4.84  -9.08       2      1  0.3333\n",
       "499  49.80  12.34   6.84       2      1  0.3333\n",
       "\n",
       "[500 rows x 6 columns]"
      ]
     },
     "execution_count": 35,
     "metadata": {},
     "output_type": "execute_result"
    }
   ],
   "source": [
    "predictions"
   ]
  },
  {
   "cell_type": "code",
   "execution_count": 36,
   "id": "35e7a38e",
   "metadata": {
    "ExecuteTime": {
     "end_time": "2021-06-09T04:28:16.512582Z",
     "start_time": "2021-06-09T04:28:16.491639Z"
    }
   },
   "outputs": [
    {
     "data": {
      "text/html": [
       "<div>\n",
       "<style scoped>\n",
       "    .dataframe tbody tr th:only-of-type {\n",
       "        vertical-align: middle;\n",
       "    }\n",
       "\n",
       "    .dataframe tbody tr th {\n",
       "        vertical-align: top;\n",
       "    }\n",
       "\n",
       "    .dataframe thead th {\n",
       "        text-align: right;\n",
       "    }\n",
       "</style>\n",
       "<table border=\"1\" class=\"dataframe\">\n",
       "  <thead>\n",
       "    <tr style=\"text-align: right;\">\n",
       "      <th></th>\n",
       "      <th>count</th>\n",
       "      <th>mean</th>\n",
       "      <th>std</th>\n",
       "      <th>min</th>\n",
       "      <th>25%</th>\n",
       "      <th>50%</th>\n",
       "      <th>75%</th>\n",
       "      <th>max</th>\n",
       "    </tr>\n",
       "  </thead>\n",
       "  <tbody>\n",
       "    <tr>\n",
       "      <th>x1</th>\n",
       "      <td>500.0</td>\n",
       "      <td>43.34562</td>\n",
       "      <td>26.481380</td>\n",
       "      <td>-12.6100</td>\n",
       "      <td>20.6425</td>\n",
       "      <td>43.1400</td>\n",
       "      <td>65.1050</td>\n",
       "      <td>91.3900</td>\n",
       "    </tr>\n",
       "    <tr>\n",
       "      <th>x2</th>\n",
       "      <td>500.0</td>\n",
       "      <td>8.99878</td>\n",
       "      <td>5.219866</td>\n",
       "      <td>0.8400</td>\n",
       "      <td>4.9650</td>\n",
       "      <td>7.9100</td>\n",
       "      <td>11.5825</td>\n",
       "      <td>28.1600</td>\n",
       "    </tr>\n",
       "    <tr>\n",
       "      <th>x3</th>\n",
       "      <td>500.0</td>\n",
       "      <td>-24.91972</td>\n",
       "      <td>20.388537</td>\n",
       "      <td>-59.8900</td>\n",
       "      <td>-42.9775</td>\n",
       "      <td>-24.9950</td>\n",
       "      <td>-7.8450</td>\n",
       "      <td>9.9900</td>\n",
       "    </tr>\n",
       "    <tr>\n",
       "      <th>target</th>\n",
       "      <td>500.0</td>\n",
       "      <td>0.71200</td>\n",
       "      <td>0.895914</td>\n",
       "      <td>0.0000</td>\n",
       "      <td>0.0000</td>\n",
       "      <td>0.0000</td>\n",
       "      <td>2.0000</td>\n",
       "      <td>2.0000</td>\n",
       "    </tr>\n",
       "    <tr>\n",
       "      <th>Label</th>\n",
       "      <td>500.0</td>\n",
       "      <td>1.00000</td>\n",
       "      <td>0.000000</td>\n",
       "      <td>1.0000</td>\n",
       "      <td>1.0000</td>\n",
       "      <td>1.0000</td>\n",
       "      <td>1.0000</td>\n",
       "      <td>1.0000</td>\n",
       "    </tr>\n",
       "    <tr>\n",
       "      <th>Score</th>\n",
       "      <td>500.0</td>\n",
       "      <td>0.33330</td>\n",
       "      <td>0.000000</td>\n",
       "      <td>0.3333</td>\n",
       "      <td>0.3333</td>\n",
       "      <td>0.3333</td>\n",
       "      <td>0.3333</td>\n",
       "      <td>0.3333</td>\n",
       "    </tr>\n",
       "  </tbody>\n",
       "</table>\n",
       "</div>"
      ],
      "text/plain": [
       "        count      mean        std      min      25%      50%      75%  \\\n",
       "x1      500.0  43.34562  26.481380 -12.6100  20.6425  43.1400  65.1050   \n",
       "x2      500.0   8.99878   5.219866   0.8400   4.9650   7.9100  11.5825   \n",
       "x3      500.0 -24.91972  20.388537 -59.8900 -42.9775 -24.9950  -7.8450   \n",
       "target  500.0   0.71200   0.895914   0.0000   0.0000   0.0000   2.0000   \n",
       "Label   500.0   1.00000   0.000000   1.0000   1.0000   1.0000   1.0000   \n",
       "Score   500.0   0.33330   0.000000   0.3333   0.3333   0.3333   0.3333   \n",
       "\n",
       "            max  \n",
       "x1      91.3900  \n",
       "x2      28.1600  \n",
       "x3       9.9900  \n",
       "target   2.0000  \n",
       "Label    1.0000  \n",
       "Score    0.3333  "
      ]
     },
     "execution_count": 36,
     "metadata": {},
     "output_type": "execute_result"
    }
   ],
   "source": [
    "predictions.describe().T"
   ]
  },
  {
   "cell_type": "code",
   "execution_count": 38,
   "id": "9d7cb8dc",
   "metadata": {
    "ExecuteTime": {
     "end_time": "2021-06-09T04:31:13.025663Z",
     "start_time": "2021-06-09T04:31:13.019679Z"
    }
   },
   "outputs": [
    {
     "data": {
      "text/plain": [
       "1    500\n",
       "Name: Label, dtype: int64"
      ]
     },
     "execution_count": 38,
     "metadata": {},
     "output_type": "execute_result"
    }
   ],
   "source": [
    "predictions['Label'].value_counts()"
   ]
  },
  {
   "cell_type": "code",
   "execution_count": null,
   "id": "4624e1aa",
   "metadata": {},
   "outputs": [],
   "source": []
  }
 ],
 "metadata": {
  "kernelspec": {
   "display_name": "Python 3",
   "language": "python",
   "name": "python3"
  },
  "language_info": {
   "codemirror_mode": {
    "name": "ipython",
    "version": 3
   },
   "file_extension": ".py",
   "mimetype": "text/x-python",
   "name": "python",
   "nbconvert_exporter": "python",
   "pygments_lexer": "ipython3",
   "version": "3.9.5"
  },
  "toc": {
   "base_numbering": 1,
   "nav_menu": {},
   "number_sections": true,
   "sideBar": true,
   "skip_h1_title": false,
   "title_cell": "Table of Contents",
   "title_sidebar": "Contents",
   "toc_cell": false,
   "toc_position": {},
   "toc_section_display": true,
   "toc_window_display": false
  }
 },
 "nbformat": 4,
 "nbformat_minor": 5
}
